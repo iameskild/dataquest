{
 "cells": [
  {
   "cell_type": "markdown",
   "metadata": {},
   "source": [
    "# Profitable App Profiles for the App Store and Google Play Markets"
   ]
  },
  {
   "cell_type": "code",
   "execution_count": 1,
   "metadata": {
    "collapsed": false
   },
   "outputs": [],
   "source": [
    "from csv import reader\n",
    "\n",
    "# Apple App Store data\n",
    "apple = reader(open('AppleStore.csv'))\n",
    "ios = list(apple)\n",
    "ios_header = ios[0]\n",
    "ios_apps = ios[1:]\n",
    "\n",
    "# Google Play data\n",
    "google = reader(open('googleplaystore.csv'))\n",
    "android = list(google)\n",
    "android_header = android[0]\n",
    "android_apps = android[1:]"
   ]
  },
  {
   "cell_type": "code",
   "execution_count": 2,
   "metadata": {
    "collapsed": false
   },
   "outputs": [],
   "source": [
    "def explore_data(dataset, start, end, rows_and_columns=False):\n",
    "    dataset_slice = dataset[start:end]    \n",
    "    for row in dataset_slice:\n",
    "        print(row)\n",
    "        print('\\n') # adds a new (empty) line after each row\n",
    "\n",
    "    # Modified explore_data to return a tuple for the (# rows, # cols)\n",
    "    if rows_and_columns:\n",
    "        return (len(dataset), len(dataset[0]))"
   ]
  },
  {
   "cell_type": "code",
   "execution_count": 3,
   "metadata": {
    "collapsed": false
   },
   "outputs": [
    {
     "name": "stdout",
     "output_type": "stream",
     "text": [
      "['284882215', 'Facebook', '389879808', 'USD', '0.0', '2974676', '212', '3.5', '3.5', '95.0', '4+', 'Social Networking', '37', '1', '29', '1']\n",
      "\n",
      "\n",
      "['389801252', 'Instagram', '113954816', 'USD', '0.0', '2161558', '1289', '4.5', '4.0', '10.23', '12+', 'Photo & Video', '37', '0', '29', '1']\n",
      "\n",
      "\n",
      "['529479190', 'Clash of Clans', '116476928', 'USD', '0.0', '2130805', '579', '4.5', '4.5', '9.24.12', '9+', 'Games', '38', '5', '18', '1']\n",
      "\n",
      "\n",
      "['420009108', 'Temple Run', '65921024', 'USD', '0.0', '1724546', '3842', '4.5', '4.0', '1.6.2', '9+', 'Games', '40', '5', '1', '1']\n",
      "\n",
      "\n",
      "['284035177', 'Pandora - Music & Radio', '130242560', 'USD', '0.0', '1126879', '3594', '4.0', '4.5', '8.4.1', '12+', 'Music', '37', '4', '1', '1']\n",
      "\n",
      "\n"
     ]
    }
   ],
   "source": [
    "# Print the first five rows from the ios_apps dataset\n",
    "ios_apps_size = explore_data(ios_apps, 0, 5, True)"
   ]
  },
  {
   "cell_type": "code",
   "execution_count": 4,
   "metadata": {
    "collapsed": false
   },
   "outputs": [
    {
     "name": "stdout",
     "output_type": "stream",
     "text": [
      "['Photo Editor & Candy Camera & Grid & ScrapBook', 'ART_AND_DESIGN', '4.1', '159', '19M', '10,000+', 'Free', '0', 'Everyone', 'Art & Design', 'January 7, 2018', '1.0.0', '4.0.3 and up']\n",
      "\n",
      "\n",
      "['Coloring book moana', 'ART_AND_DESIGN', '3.9', '967', '14M', '500,000+', 'Free', '0', 'Everyone', 'Art & Design;Pretend Play', 'January 15, 2018', '2.0.0', '4.0.3 and up']\n",
      "\n",
      "\n",
      "['U Launcher Lite – FREE Live Cool Themes, Hide Apps', 'ART_AND_DESIGN', '4.7', '87510', '8.7M', '5,000,000+', 'Free', '0', 'Everyone', 'Art & Design', 'August 1, 2018', '1.2.4', '4.0.3 and up']\n",
      "\n",
      "\n",
      "['Sketch - Draw & Paint', 'ART_AND_DESIGN', '4.5', '215644', '25M', '50,000,000+', 'Free', '0', 'Teen', 'Art & Design', 'June 8, 2018', 'Varies with device', '4.2 and up']\n",
      "\n",
      "\n",
      "['Pixel Draw - Number Art Coloring Book', 'ART_AND_DESIGN', '4.3', '967', '2.8M', '100,000+', 'Free', '0', 'Everyone', 'Art & Design;Creativity', 'June 20, 2018', '1.1', '4.4 and up']\n",
      "\n",
      "\n"
     ]
    }
   ],
   "source": [
    "# Print the first five rows from the android_apps dataset\n",
    "android_apps_size = explore_data(android_apps, 0, 5, True)"
   ]
  },
  {
   "cell_type": "code",
   "execution_count": 5,
   "metadata": {
    "collapsed": false
   },
   "outputs": [
    {
     "data": {
      "text/plain": [
       "['id',\n",
       " 'track_name',\n",
       " 'size_bytes',\n",
       " 'currency',\n",
       " 'price',\n",
       " 'rating_count_tot',\n",
       " 'rating_count_ver',\n",
       " 'user_rating',\n",
       " 'user_rating_ver',\n",
       " 'ver',\n",
       " 'cont_rating',\n",
       " 'prime_genre',\n",
       " 'sup_devices.num',\n",
       " 'ipadSc_urls.num',\n",
       " 'lang.num',\n",
       " 'vpp_lic']"
      ]
     },
     "execution_count": 5,
     "metadata": {},
     "output_type": "execute_result"
    }
   ],
   "source": [
    "# List out the column names for the ios_apps dataset\n",
    "ios_header"
   ]
  },
  {
   "cell_type": "code",
   "execution_count": 6,
   "metadata": {
    "collapsed": false
   },
   "outputs": [
    {
     "data": {
      "text/plain": [
       "(7197, 16)"
      ]
     },
     "execution_count": 6,
     "metadata": {},
     "output_type": "execute_result"
    }
   ],
   "source": [
    "# The size (#rows, #cols) of the (uncleaned) ios_apps dataset\n",
    "ios_apps_size"
   ]
  },
  {
   "cell_type": "code",
   "execution_count": 7,
   "metadata": {
    "collapsed": false
   },
   "outputs": [
    {
     "data": {
      "text/plain": [
       "['App',\n",
       " 'Category',\n",
       " 'Rating',\n",
       " 'Reviews',\n",
       " 'Size',\n",
       " 'Installs',\n",
       " 'Type',\n",
       " 'Price',\n",
       " 'Content Rating',\n",
       " 'Genres',\n",
       " 'Last Updated',\n",
       " 'Current Ver',\n",
       " 'Android Ver']"
      ]
     },
     "execution_count": 7,
     "metadata": {},
     "output_type": "execute_result"
    }
   ],
   "source": [
    "# List out the column names for the android_apps dataset\n",
    "android_header"
   ]
  },
  {
   "cell_type": "code",
   "execution_count": 8,
   "metadata": {
    "collapsed": false
   },
   "outputs": [
    {
     "data": {
      "text/plain": [
       "(10841, 13)"
      ]
     },
     "execution_count": 8,
     "metadata": {},
     "output_type": "execute_result"
    }
   ],
   "source": [
    "# The size (#rows, #cols) of the (uncleaned) android_apps dataset\n",
    "android_apps_size"
   ]
  },
  {
   "cell_type": "markdown",
   "metadata": {},
   "source": [
    "## Data Cleaning\n",
    "\n",
    "#### Google Play Store\n",
    "From the discussion on Kaggle.com, the app located at index 10472 ('Life Made Wi-Fi Touchscreen Photo Frame') is missing a value for the 'Category' column. Doing a little research, I was able to deduce that this is a 'Lifestyle' category app. \n",
    "See [discussion](https://www.kaggle.com/lava18/google-play-store-apps/discussion/66015).\n",
    "\n",
    "Rather than deleting this datapoint, I will insert the value for 'Category'.\n",
    "\n",
    "#### Apple App Store\n",
    "After reading through some of the discussion found on Kaggle.com, it appears that there two sets of apps with the same names are all unqiue (VR Roller Coaster and Mannequin Challenge).\n",
    "See [discussion](https://www.kaggle.com/ramamet4/app-store-apple-data-set-10k-apps/discussion/90409).\n",
    "\n",
    "Rather than remove these two datapoints, I will keep both of them."
   ]
  },
  {
   "cell_type": "code",
   "execution_count": 9,
   "metadata": {
    "collapsed": false
   },
   "outputs": [
    {
     "data": {
      "text/plain": [
       "['Life Made WI-Fi Touchscreen Photo Frame',\n",
       " '1.9',\n",
       " '19',\n",
       " '3.0M',\n",
       " '1,000+',\n",
       " 'Free',\n",
       " '0',\n",
       " 'Everyone',\n",
       " '',\n",
       " 'February 11, 2018',\n",
       " '1.0.19',\n",
       " '4.0 and up']"
      ]
     },
     "execution_count": 9,
     "metadata": {},
     "output_type": "execute_result"
    }
   ],
   "source": [
    "android_apps[10472]"
   ]
  },
  {
   "cell_type": "code",
   "execution_count": 10,
   "metadata": {
    "collapsed": true
   },
   "outputs": [],
   "source": [
    "android_apps[10472].insert(1,'Lifestyle')"
   ]
  },
  {
   "cell_type": "code",
   "execution_count": 11,
   "metadata": {
    "collapsed": false
   },
   "outputs": [
    {
     "data": {
      "text/plain": [
       "['Life Made WI-Fi Touchscreen Photo Frame',\n",
       " 'Lifestyle',\n",
       " '1.9',\n",
       " '19',\n",
       " '3.0M',\n",
       " '1,000+',\n",
       " 'Free',\n",
       " '0',\n",
       " 'Everyone',\n",
       " '',\n",
       " 'February 11, 2018',\n",
       " '1.0.19',\n",
       " '4.0 and up']"
      ]
     },
     "execution_count": 11,
     "metadata": {},
     "output_type": "execute_result"
    }
   ],
   "source": [
    "android_apps[10472]"
   ]
  },
  {
   "cell_type": "code",
   "execution_count": 12,
   "metadata": {
    "collapsed": true
   },
   "outputs": [],
   "source": [
    "# function returns a list of duplicate apps by name\n",
    "def duplicate_apps(data, name_index=0):\n",
    "    dup_apps = []\n",
    "    unique_apps = []\n",
    "    \n",
    "    for app in data:\n",
    "        name = app[name_index]\n",
    "        if name in unique_apps:\n",
    "            dup_apps.append(name)\n",
    "        else:\n",
    "            unique_apps.append(name)\n",
    "  \n",
    "    return dup_apps"
   ]
  },
  {
   "cell_type": "code",
   "execution_count": 13,
   "metadata": {
    "collapsed": false
   },
   "outputs": [
    {
     "name": "stdout",
     "output_type": "stream",
     "text": [
      "Google Play Store\n",
      "Number of duplicate apps:  1181\n"
     ]
    }
   ],
   "source": [
    "dup_apps_android = duplicate_apps(android_apps)\n",
    "print('Google Play Store')\n",
    "print('Number of duplicate apps: ', len(dup_apps_android))"
   ]
  },
  {
   "cell_type": "code",
   "execution_count": 14,
   "metadata": {
    "collapsed": false
   },
   "outputs": [
    {
     "name": "stdout",
     "output_type": "stream",
     "text": [
      "Apple App Store\n",
      "Number of duplicate apps:  2\n"
     ]
    }
   ],
   "source": [
    "dup_apps_ios = duplicate_apps(ios_apps, 1)\n",
    "print('Apple App Store')\n",
    "print('Number of duplicate apps: ', len(dup_apps_ios))"
   ]
  },
  {
   "cell_type": "markdown",
   "metadata": {},
   "source": [
    "### Remove Duplicate Apps\n",
    "\n",
    "#### Google Play Store\n",
    "It appears that there are a lot of duplicate apps in the android_apps dataset. I will remove all duplicates based with the same name and keep only the one with the most number of reviews.\n",
    "\n",
    "#### Apple App Store\n",
    "Since there are two sets of duplicates found in the ios_apps dataset, these must be the two sets of applications with the same names (as mentioned above). I will not remove these as they appear to be unique."
   ]
  },
  {
   "cell_type": "code",
   "execution_count": 15,
   "metadata": {
    "collapsed": true
   },
   "outputs": [],
   "source": [
    "# function to remove duplicates by selecting the row with the \n",
    "# highest number of reviews (i.e. the most up-to-date row) \n",
    "# data is a 2D array (a list of lists)\n",
    "# name_index and n_reviews_index are both integers \n",
    "# returns a 2d array without any duplicates\n",
    "def remove_duplicates(data, name_index, n_reviews_index):\n",
    "    # create a dictionary for the max number of reviews per app \n",
    "    reviews_max = {}\n",
    "    \n",
    "    for row in data:\n",
    "        name = row[name_index]\n",
    "        n_reviews = float(row[n_reviews_index])\n",
    "        if name in reviews_max and reviews_max[name] < n_reviews:\n",
    "            reviews_max[name] = n_reviews\n",
    "        elif name not in reviews_max:\n",
    "            reviews_max[name] = n_reviews\n",
    "        \n",
    "    clean_data = []\n",
    "    already_added = []\n",
    "\n",
    "    for row in data:\n",
    "        name = row[name_index]\n",
    "        n_reviews = float(row[n_reviews_index])\n",
    "        if n_reviews == reviews_max[name] and name not in already_added:\n",
    "            clean_data.append(row)\n",
    "            already_added.append(name)\n",
    "    \n",
    "    return clean_data"
   ]
  },
  {
   "cell_type": "code",
   "execution_count": 16,
   "metadata": {
    "collapsed": false
   },
   "outputs": [
    {
     "name": "stdout",
     "output_type": "stream",
     "text": [
      "The new android dataset (w/o duplicates) has 9660 rows.\n"
     ]
    }
   ],
   "source": [
    "android_clean = remove_duplicates(android_apps, 0, 3)\n",
    "print('The new android dataset (w/o duplicates) has', \n",
    "      len(android_clean), 'rows.')"
   ]
  },
  {
   "cell_type": "code",
   "execution_count": 17,
   "metadata": {
    "collapsed": false
   },
   "outputs": [
    {
     "name": "stdout",
     "output_type": "stream",
     "text": [
      "This new ios_clean dataset is the same as ios_apps dataset and has 7197 rows.\n"
     ]
    }
   ],
   "source": [
    "ios_clean = ios_apps\n",
    "print('This new ios_clean dataset is the same as ios_apps dataset and has', \n",
    "      len(ios_clean), 'rows.')"
   ]
  },
  {
   "cell_type": "markdown",
   "metadata": {},
   "source": [
    "### Remove Non-English Apps\n",
    "\n",
    "The way we have choosen to remove non-English apps is by creating a rule in which we count the number of non-English characters (0-127 ASCII codes) and if the name of the app has more than 3 non-English characters, we will remove it from our datasets. \n",
    "\n",
    "This rule is not perfect since we may remove apps with many emojis in their name that are still English. Or the reserve, we may keep apps that are in other languages but use mostly English characters (i.e. German or French)). This rule should be good enough for the time being."
   ]
  },
  {
   "cell_type": "code",
   "execution_count": 18,
   "metadata": {
    "collapsed": true
   },
   "outputs": [],
   "source": [
    "# function which takes a string and returns False if more than 3 \n",
    "# characters in the string are non-English (0-127 ASCII)\n",
    "def english_detector(string):\n",
    "    \n",
    "    non_english_char_count = 0\n",
    "    \n",
    "    for char in string:\n",
    "        if ord(char) > 127:\n",
    "            non_english_char_count += 1\n",
    "    \n",
    "    if non_english_char_count > 3:\n",
    "        return False\n",
    "        \n",
    "    return True"
   ]
  },
  {
   "cell_type": "code",
   "execution_count": 27,
   "metadata": {
    "collapsed": false
   },
   "outputs": [
    {
     "name": "stdout",
     "output_type": "stream",
     "text": [
      "The new android dataset (w/o duplicates and non-English names) \n",
      "has 9615 rows.\n"
     ]
    }
   ],
   "source": [
    "android_clean_english = []\n",
    "\n",
    "for row in android_clean:\n",
    "    english_name = english_detector(row[0])\n",
    "    if english_name == True:\n",
    "        android_clean_english.append(row)\n",
    "\n",
    "print('''The new android dataset (w/o duplicates and non-English names) \n",
    "has''', len(android_clean_english), 'rows.')"
   ]
  },
  {
   "cell_type": "code",
   "execution_count": 28,
   "metadata": {
    "collapsed": false
   },
   "outputs": [
    {
     "name": "stdout",
     "output_type": "stream",
     "text": [
      "The new ios dataset (w/o duplicates and non-English names) \n",
      "has 6183 rows.\n"
     ]
    }
   ],
   "source": [
    "ios_clean_english = []\n",
    "\n",
    "for row in ios_clean:\n",
    "    english_name = english_detector(row[1])\n",
    "    if english_name == True:\n",
    "        ios_clean_english.append(row)\n",
    "\n",
    "print('''The new ios dataset (w/o duplicates and non-English names) \n",
    "has''', len(ios_clean_english), 'rows.')"
   ]
  },
  {
   "cell_type": "markdown",
   "metadata": {},
   "source": [
    "### Remove Non-Free Apps\n",
    "\n",
    "We are only concerned with free apps and will remove all apps require payment to download."
   ]
  },
  {
   "cell_type": "code",
   "execution_count": 24,
   "metadata": {
    "collapsed": false
   },
   "outputs": [
    {
     "name": "stdout",
     "output_type": "stream",
     "text": [
      "The new android dataset (w/o duplicates, non-English names\n",
      "and non-Free apps) has 8864 rows.\n"
     ]
    }
   ],
   "source": [
    "android_clean_english_free = []\n",
    "\n",
    "for row in android_clean_english:\n",
    "    if row[6] == 'Free':\n",
    "        android_clean_english_free.append(row)\n",
    "\n",
    "print('''The new android dataset (w/o duplicates, non-English names\n",
    "and non-Free apps) has''', len(android_clean_english_free), 'rows.')"
   ]
  },
  {
   "cell_type": "code",
   "execution_count": 25,
   "metadata": {
    "collapsed": false
   },
   "outputs": [
    {
     "name": "stdout",
     "output_type": "stream",
     "text": [
      "The new ios dataset (w/o duplicates and non-English names\n",
      "and non-Free apps) has 3222 rows.\n"
     ]
    }
   ],
   "source": [
    "ios_clean_english_free = []\n",
    "\n",
    "for row in ios_clean_english:\n",
    "    if float(row[4]) == 0:\n",
    "        ios_clean_english_free.append(row)\n",
    "\n",
    "print('''The new ios dataset (w/o duplicates and non-English names\n",
    "and non-Free apps) has''', len(ios_clean_english_free), 'rows.')"
   ]
  },
  {
   "cell_type": "markdown",
   "metadata": {
    "collapsed": false
   },
   "source": []
  },
  {
   "cell_type": "code",
   "execution_count": null,
   "metadata": {
    "collapsed": true
   },
   "outputs": [],
   "source": []
  }
 ],
 "metadata": {
  "kernelspec": {
   "display_name": "Python 3",
   "language": "python",
   "name": "python3"
  },
  "language_info": {
   "codemirror_mode": {
    "name": "ipython",
    "version": 3
   },
   "file_extension": ".py",
   "mimetype": "text/x-python",
   "name": "python",
   "nbconvert_exporter": "python",
   "pygments_lexer": "ipython3",
   "version": "3.4.3"
  }
 },
 "nbformat": 4,
 "nbformat_minor": 2
}
