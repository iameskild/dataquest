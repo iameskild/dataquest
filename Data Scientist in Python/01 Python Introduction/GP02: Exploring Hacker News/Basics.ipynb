{
 "cells": [
  {
   "cell_type": "markdown",
   "metadata": {
    "collapsed": true
   },
   "source": [
    "# Analyzing HackerNews\n",
    "\n",
    "We will be analyzing HackerNews post data, comparing Ask HN and Show HN posts and delving deeper into, on average, which hours of day Ask HN post gets the most comments.\n",
    "\n",
    "The data was provided by Kaggle.com. \n",
    "See [link](https://www.kaggle.com/hacker-news/hacker-news-posts)"
   ]
  },
  {
   "cell_type": "code",
   "execution_count": 1,
   "metadata": {
    "collapsed": true
   },
   "outputs": [],
   "source": [
    "from csv import reader\n",
    "opened_file = open('hacker_news.csv')\n",
    "read_file = reader(opened_file)\n",
    "hn = list(read_file)"
   ]
  },
  {
   "cell_type": "code",
   "execution_count": 2,
   "metadata": {
    "collapsed": false
   },
   "outputs": [],
   "source": [
    "headers = hn[0]\n",
    "hn = hn[1:]"
   ]
  },
  {
   "cell_type": "code",
   "execution_count": 3,
   "metadata": {
    "collapsed": false
   },
   "outputs": [
    {
     "name": "stdout",
     "output_type": "stream",
     "text": [
      "['id', 'title', 'url', 'num_points', 'num_comments', 'author', 'created_at']\n"
     ]
    }
   ],
   "source": [
    "print(headers)"
   ]
  },
  {
   "cell_type": "code",
   "execution_count": 4,
   "metadata": {
    "collapsed": false
   },
   "outputs": [
    {
     "name": "stdout",
     "output_type": "stream",
     "text": [
      "['12224879', 'Interactive Dynamic Video', 'http://www.interactivedynamicvideo.com/', '386', '52', 'ne0phyte', '8/4/2016 11:52'] \n",
      "\n",
      "['10975351', 'How to Use Open Source and Shut the Fuck Up at the Same Time', 'http://hueniverse.com/2016/01/26/how-to-use-open-source-and-shut-the-fuck-up-at-the-same-time/', '39', '10', 'josep2', '1/26/2016 19:30'] \n",
      "\n",
      "['11964716', \"Florida DJs May Face Felony for April Fools' Water Joke\", 'http://www.thewire.com/entertainment/2013/04/florida-djs-april-fools-water-joke/63798/', '2', '1', 'vezycash', '6/23/2016 22:20'] \n",
      "\n",
      "['11919867', 'Technology ventures: From Idea to Enterprise', 'https://www.amazon.com/Technology-Ventures-Enterprise-Thomas-Byers/dp/0073523429', '3', '1', 'hswarna', '6/17/2016 0:01'] \n",
      "\n",
      "['10301696', 'Note by Note: The Making of Steinway L1037 (2007)', 'http://www.nytimes.com/2007/11/07/movies/07stein.html?_r=0', '8', '2', 'walterbell', '9/30/2015 4:12'] \n",
      "\n"
     ]
    }
   ],
   "source": [
    "for row in hn[:5]:\n",
    "    print(row, '\\n')"
   ]
  },
  {
   "cell_type": "code",
   "execution_count": 14,
   "metadata": {
    "collapsed": false
   },
   "outputs": [
    {
     "name": "stdout",
     "output_type": "stream",
     "text": [
      "Number of rows in ask_posts: 1744\n",
      "Number of rows in show_posts: 1162\n",
      "Number of rows in other_posts: 17194\n"
     ]
    }
   ],
   "source": [
    "ask_posts = []\n",
    "show_posts = []\n",
    "other_posts = []\n",
    "\n",
    "for row in hn:\n",
    "    title = row[1].lower()\n",
    "    \n",
    "    if title.startswith('ask hn'):\n",
    "        ask_posts.append(row)\n",
    "    elif title.startswith('show hn'):\n",
    "        show_posts.append(row)\n",
    "    else:\n",
    "        other_posts.append(row)\n",
    "\n",
    "len_ask_posts = len(ask_posts)\n",
    "len_show_posts = len(show_posts)\n",
    "len_other_posts = len(other_posts)\n",
    "\n",
    "print('Number of rows in ask_posts:', len_ask_posts)\n",
    "print('Number of rows in show_posts:', len_show_posts)\n",
    "print('Number of rows in other_posts:', len_other_posts)"
   ]
  },
  {
   "cell_type": "code",
   "execution_count": 15,
   "metadata": {
    "collapsed": false
   },
   "outputs": [
    {
     "name": "stdout",
     "output_type": "stream",
     "text": [
      "['12296411', 'Ask HN: How to improve my personal website?', '', '2', '6', 'ahmedbaracat', '8/16/2016 9:55'] \n",
      "\n",
      "['10610020', 'Ask HN: Am I the only one outraged by Twitter shutting down share counts?', '', '28', '29', 'tkfx', '11/22/2015 13:43'] \n",
      "\n",
      "['11610310', 'Ask HN: Aby recent changes to CSS that broke mobile?', '', '1', '1', 'polskibus', '5/2/2016 10:14'] \n",
      "\n",
      "['12210105', 'Ask HN: Looking for Employee #3 How do I do it?', '', '1', '3', 'sph130', '8/2/2016 14:20'] \n",
      "\n",
      "['10394168', 'Ask HN: Someone offered to buy my browser extension from me. What now?', '', '28', '17', 'roykolak', '10/15/2015 16:38'] \n",
      "\n"
     ]
    }
   ],
   "source": [
    "for row in ask_posts[:5]:\n",
    "    print(row, '\\n')"
   ]
  },
  {
   "cell_type": "code",
   "execution_count": 16,
   "metadata": {
    "collapsed": false
   },
   "outputs": [
    {
     "name": "stdout",
     "output_type": "stream",
     "text": [
      "['10627194', 'Show HN: Wio Link  ESP8266 Based Web of Things Hardware Development Platform', 'https://iot.seeed.cc', '26', '22', 'kfihihc', '11/25/2015 14:03'] \n",
      "\n",
      "['10646440', 'Show HN: Something pointless I made', 'http://dn.ht/picklecat/', '747', '102', 'dhotson', '11/29/2015 22:46'] \n",
      "\n",
      "['11590768', 'Show HN: Shanhu.io, a programming playground powered by e8vm', 'https://shanhu.io', '1', '1', 'h8liu', '4/28/2016 18:05'] \n",
      "\n",
      "['12178806', 'Show HN: Webscope  Easy way for web developers to communicate with Clients', 'http://webscopeapp.com', '3', '3', 'fastbrick', '7/28/2016 7:11'] \n",
      "\n",
      "['10872799', 'Show HN: GeoScreenshot  Easily test Geo-IP based web pages', 'https://www.geoscreenshot.com/', '1', '9', 'kpsychwave', '1/9/2016 20:45'] \n",
      "\n"
     ]
    }
   ],
   "source": [
    "for row in show_posts[:5]:\n",
    "    print(row, '\\n')"
   ]
  },
  {
   "cell_type": "code",
   "execution_count": 22,
   "metadata": {
    "collapsed": false
   },
   "outputs": [
    {
     "name": "stdout",
     "output_type": "stream",
     "text": [
      "Average number of comments per Ask HN post: 14.04\n"
     ]
    }
   ],
   "source": [
    "total_ask_commments = 0\n",
    "\n",
    "for row in ask_posts:\n",
    "    total_ask_commments += int(row[4])\n",
    "    \n",
    "avg_ask_comments = total_ask_commments / len_ask_posts\n",
    "\n",
    "print('Average number of comments per Ask HN post:', \n",
    "      round(avg_ask_comments,2))"
   ]
  },
  {
   "cell_type": "code",
   "execution_count": 23,
   "metadata": {
    "collapsed": false
   },
   "outputs": [
    {
     "name": "stdout",
     "output_type": "stream",
     "text": [
      "Average number of comments per Show HN post: 10.32\n"
     ]
    }
   ],
   "source": [
    "total_show_commments = 0\n",
    "\n",
    "for row in show_posts:\n",
    "    total_show_commments += int(row[4])\n",
    "    \n",
    "avg_show_comments = total_show_commments / len_show_posts\n",
    "\n",
    "print('Average number of comments per Show HN post:', \n",
    "      round(avg_show_comments,2))"
   ]
  },
  {
   "cell_type": "markdown",
   "metadata": {},
   "source": [
    "### Comments per Ask HN vs Show HN\n",
    "\n",
    "It appears that there are more comments per post for a Ask HN post compared with that of a Show HN post. This might be explained by the fact that Ask HN posts are soliciting the users to get involved and post whereas a Show HN post is simply a post sharing something interesting with the community."
   ]
  },
  {
   "cell_type": "code",
   "execution_count": 24,
   "metadata": {
    "collapsed": true
   },
   "outputs": [],
   "source": [
    "import datetime as dt"
   ]
  },
  {
   "cell_type": "code",
   "execution_count": 44,
   "metadata": {
    "collapsed": false
   },
   "outputs": [],
   "source": [
    "result_list = []\n",
    "\n",
    "for row in ask_posts:\n",
    "    created_at = row[6]\n",
    "    num_comments = int(row[4])\n",
    "    \n",
    "    # first column of result_list is timestamp of post\n",
    "    # second column of result_list is the number of comments \n",
    "    result_list.append([created_at, num_comments])"
   ]
  },
  {
   "cell_type": "code",
   "execution_count": 54,
   "metadata": {
    "collapsed": false
   },
   "outputs": [
    {
     "data": {
      "text/plain": [
       "'18'"
      ]
     },
     "execution_count": 54,
     "metadata": {},
     "output_type": "execute_result"
    }
   ],
   "source": [
    "result_list[0][0]\n",
    "dt_post = dt.datetime.strptime(result_list[20][0], '%m/%d/%Y %H:%M')\n",
    "hour = dt.datetime.strftime(dt_post, '%H')\n",
    "hour"
   ]
  },
  {
   "cell_type": "code",
   "execution_count": 55,
   "metadata": {
    "collapsed": false
   },
   "outputs": [],
   "source": [
    "counts_by_hour = {}\n",
    "comments_by_hour = {}\n",
    "\n",
    "for row in result_list:\n",
    "    dt_post = dt.datetime.strptime(row[0], '%m/%d/%Y %H:%M')\n",
    "    hour = dt.datetime.strftime(dt_post, '%H')\n",
    "    \n",
    "    if hour in counts_by_hour:\n",
    "        counts_by_hour[hour] += 1\n",
    "        comments_by_hour[hour] += row[1]\n",
    "    else:\n",
    "        counts_by_hour[hour] = 1\n",
    "        comments_by_hour[hour] = row[1]"
   ]
  },
  {
   "cell_type": "code",
   "execution_count": 65,
   "metadata": {
    "collapsed": false
   },
   "outputs": [
    {
     "name": "stdout",
     "output_type": "stream",
     "text": [
      "09 : 45\n",
      "22 : 71\n",
      "12 : 73\n",
      "17 : 100\n",
      "23 : 68\n",
      "10 : 59\n",
      "04 : 47\n",
      "00 : 55\n",
      "19 : 110\n",
      "15 : 116\n",
      "14 : 107\n",
      "21 : 109\n",
      "16 : 108\n",
      "11 : 58\n",
      "07 : 34\n",
      "20 : 80\n",
      "08 : 48\n",
      "02 : 58\n",
      "06 : 44\n",
      "13 : 85\n",
      "05 : 46\n",
      "01 : 60\n",
      "18 : 109\n",
      "03 : 54\n"
     ]
    }
   ],
   "source": [
    "for i in counts_by_hour:\n",
    "    print(i, ':', counts_by_hour[i])"
   ]
  },
  {
   "cell_type": "code",
   "execution_count": 66,
   "metadata": {
    "collapsed": false
   },
   "outputs": [
    {
     "name": "stdout",
     "output_type": "stream",
     "text": [
      "09 : 251\n",
      "22 : 479\n",
      "12 : 687\n",
      "17 : 1146\n",
      "23 : 543\n",
      "10 : 793\n",
      "04 : 337\n",
      "00 : 447\n",
      "19 : 1188\n",
      "15 : 4477\n",
      "14 : 1416\n",
      "21 : 1745\n",
      "16 : 1814\n",
      "11 : 641\n",
      "07 : 267\n",
      "20 : 1722\n",
      "08 : 492\n",
      "02 : 1381\n",
      "06 : 397\n",
      "13 : 1253\n",
      "05 : 464\n",
      "01 : 683\n",
      "18 : 1439\n",
      "03 : 421\n"
     ]
    }
   ],
   "source": [
    "for i in comments_by_hour:\n",
    "    print(i, ':', comments_by_hour[i])"
   ]
  },
  {
   "cell_type": "code",
   "execution_count": 67,
   "metadata": {
    "collapsed": false
   },
   "outputs": [
    {
     "data": {
      "text/plain": [
       "24"
      ]
     },
     "execution_count": 67,
     "metadata": {},
     "output_type": "execute_result"
    }
   ],
   "source": []
  },
  {
   "cell_type": "code",
   "execution_count": 81,
   "metadata": {
    "collapsed": false
   },
   "outputs": [],
   "source": [
    "avg_by_hour = []\n",
    "\n",
    "for hour in counts_by_hour:\n",
    "    avg_by_hour.append([hour, \n",
    "                        round(\n",
    "                            comments_by_hour[hour]/counts_by_hour[hour]\n",
    "                        , 2)])\n"
   ]
  },
  {
   "cell_type": "code",
   "execution_count": 82,
   "metadata": {
    "collapsed": false
   },
   "outputs": [
    {
     "data": {
      "text/plain": [
       "[['09', 5.58],\n",
       " ['22', 6.75],\n",
       " ['12', 9.41],\n",
       " ['17', 11.46],\n",
       " ['23', 7.99],\n",
       " ['10', 13.44],\n",
       " ['04', 7.17],\n",
       " ['00', 8.13],\n",
       " ['19', 10.8],\n",
       " ['15', 38.59],\n",
       " ['14', 13.23],\n",
       " ['21', 16.01],\n",
       " ['16', 16.8],\n",
       " ['11', 11.05],\n",
       " ['07', 7.85],\n",
       " ['20', 21.52],\n",
       " ['08', 10.25],\n",
       " ['02', 23.81],\n",
       " ['06', 9.02],\n",
       " ['13', 14.74],\n",
       " ['05', 10.09],\n",
       " ['01', 11.38],\n",
       " ['18', 13.2],\n",
       " ['03', 7.8]]"
      ]
     },
     "execution_count": 82,
     "metadata": {},
     "output_type": "execute_result"
    }
   ],
   "source": [
    "avg_by_hour"
   ]
  },
  {
   "cell_type": "code",
   "execution_count": 83,
   "metadata": {
    "collapsed": true
   },
   "outputs": [],
   "source": [
    "swap_avg_by_hour = []\n",
    "\n",
    "for hour in avg_by_hour:\n",
    "    swap_avg_by_hour.append([hour[1], hour[0]])"
   ]
  },
  {
   "cell_type": "code",
   "execution_count": 98,
   "metadata": {
    "collapsed": false
   },
   "outputs": [
    {
     "name": "stdout",
     "output_type": "stream",
     "text": [
      "Top 5 Hours for Ask Post Comments:\n",
      "15:00: 38.59 average comments per post\n",
      "02:00: 23.81 average comments per post\n",
      "20:00: 21.52 average comments per post\n",
      "16:00: 16.8 average comments per post\n",
      "21:00: 16.01 average comments per post\n"
     ]
    }
   ],
   "source": [
    "sorted_swap = sorted(swap_avg_by_hour, reverse=True)\n",
    "\n",
    "print('Top 5 Hours for Ask Post Comments:')\n",
    "\n",
    "for row in sorted_swap[:5]:\n",
    "    # convert string for hour into datetime obj\n",
    "    hour = dt.datetime.strptime(row[1], '%H')\n",
    "    # convert datetime obj into string with preferred formatting \n",
    "    hour = dt.datetime.strftime(hour, '%H:%M')\n",
    "    \n",
    "    print(\"{hour}: {ave} average comments per post\".format(hour=hour,\n",
    "                                                    ave=row[0]))"
   ]
  },
  {
   "cell_type": "markdown",
   "metadata": {},
   "source": [
    "## Conclusion \n",
    "\n",
    "According to our analysis, Ask HN posts made at 3:00PM EST will receive the most comments on average. To adjust to PST, that comes out to 1:00PM PST. \n",
    "\n",
    "Other good times for potentially attracting more comments would be:\n",
    "* 2:00AM EST (11:00PM PST)\n",
    "* 8:00PM EST (6:00PM PST)\n",
    "* 4:00PM EST (2:00PM PST)\n",
    "* 9:00PM EST (7:00PM PST)\n",
    "\n"
   ]
  },
  {
   "cell_type": "code",
   "execution_count": null,
   "metadata": {
    "collapsed": true
   },
   "outputs": [],
   "source": []
  }
 ],
 "metadata": {
  "kernelspec": {
   "display_name": "Python 3",
   "language": "python",
   "name": "python3"
  },
  "language_info": {
   "codemirror_mode": {
    "name": "ipython",
    "version": 3
   },
   "file_extension": ".py",
   "mimetype": "text/x-python",
   "name": "python",
   "nbconvert_exporter": "python",
   "pygments_lexer": "ipython3",
   "version": "3.4.3"
  }
 },
 "nbformat": 4,
 "nbformat_minor": 2
}
