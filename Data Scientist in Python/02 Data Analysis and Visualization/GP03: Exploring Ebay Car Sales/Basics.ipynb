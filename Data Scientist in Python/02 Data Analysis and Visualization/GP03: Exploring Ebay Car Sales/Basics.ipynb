{
 "cells": [
  {
   "cell_type": "markdown",
   "metadata": {
    "collapsed": true
   },
   "source": [
    "# Clean Cars and Clean Data\n",
    "\n",
    "The aim of this project is to take a dataset of used cars from *eBay Kleinanzeigen*, a classified section of the German eBay website, clean the data and analyze it. "
   ]
  },
  {
   "cell_type": "code",
   "execution_count": 1,
   "metadata": {
    "collapsed": true
   },
   "outputs": [],
   "source": [
    "import numpy as np \n",
    "import pandas as pd\n",
    "import re"
   ]
  },
  {
   "cell_type": "code",
   "execution_count": 2,
   "metadata": {
    "collapsed": false
   },
   "outputs": [],
   "source": [
    "autos = pd.read_csv('autos.csv', encoding='Latin-1')"
   ]
  },
  {
   "cell_type": "code",
   "execution_count": 3,
   "metadata": {
    "collapsed": false
   },
   "outputs": [
    {
     "data": {
      "text/html": [
       "<div>\n",
       "<style scoped>\n",
       "    .dataframe tbody tr th:only-of-type {\n",
       "        vertical-align: middle;\n",
       "    }\n",
       "\n",
       "    .dataframe tbody tr th {\n",
       "        vertical-align: top;\n",
       "    }\n",
       "\n",
       "    .dataframe thead th {\n",
       "        text-align: right;\n",
       "    }\n",
       "</style>\n",
       "<table border=\"1\" class=\"dataframe\">\n",
       "  <thead>\n",
       "    <tr style=\"text-align: right;\">\n",
       "      <th></th>\n",
       "      <th>dateCrawled</th>\n",
       "      <th>name</th>\n",
       "      <th>seller</th>\n",
       "      <th>offerType</th>\n",
       "      <th>price</th>\n",
       "      <th>abtest</th>\n",
       "      <th>vehicleType</th>\n",
       "      <th>yearOfRegistration</th>\n",
       "      <th>gearbox</th>\n",
       "      <th>powerPS</th>\n",
       "      <th>model</th>\n",
       "      <th>odometer</th>\n",
       "      <th>monthOfRegistration</th>\n",
       "      <th>fuelType</th>\n",
       "      <th>brand</th>\n",
       "      <th>notRepairedDamage</th>\n",
       "      <th>dateCreated</th>\n",
       "      <th>nrOfPictures</th>\n",
       "      <th>postalCode</th>\n",
       "      <th>lastSeen</th>\n",
       "    </tr>\n",
       "  </thead>\n",
       "  <tbody>\n",
       "    <tr>\n",
       "      <th>0</th>\n",
       "      <td>2016-03-26 17:47:46</td>\n",
       "      <td>Peugeot_807_160_NAVTECH_ON_BOARD</td>\n",
       "      <td>privat</td>\n",
       "      <td>Angebot</td>\n",
       "      <td>$5,000</td>\n",
       "      <td>control</td>\n",
       "      <td>bus</td>\n",
       "      <td>2004</td>\n",
       "      <td>manuell</td>\n",
       "      <td>158</td>\n",
       "      <td>andere</td>\n",
       "      <td>150,000km</td>\n",
       "      <td>3</td>\n",
       "      <td>lpg</td>\n",
       "      <td>peugeot</td>\n",
       "      <td>nein</td>\n",
       "      <td>2016-03-26 00:00:00</td>\n",
       "      <td>0</td>\n",
       "      <td>79588</td>\n",
       "      <td>2016-04-06 06:45:54</td>\n",
       "    </tr>\n",
       "    <tr>\n",
       "      <th>1</th>\n",
       "      <td>2016-04-04 13:38:56</td>\n",
       "      <td>BMW_740i_4_4_Liter_HAMANN_UMBAU_Mega_Optik</td>\n",
       "      <td>privat</td>\n",
       "      <td>Angebot</td>\n",
       "      <td>$8,500</td>\n",
       "      <td>control</td>\n",
       "      <td>limousine</td>\n",
       "      <td>1997</td>\n",
       "      <td>automatik</td>\n",
       "      <td>286</td>\n",
       "      <td>7er</td>\n",
       "      <td>150,000km</td>\n",
       "      <td>6</td>\n",
       "      <td>benzin</td>\n",
       "      <td>bmw</td>\n",
       "      <td>nein</td>\n",
       "      <td>2016-04-04 00:00:00</td>\n",
       "      <td>0</td>\n",
       "      <td>71034</td>\n",
       "      <td>2016-04-06 14:45:08</td>\n",
       "    </tr>\n",
       "    <tr>\n",
       "      <th>2</th>\n",
       "      <td>2016-03-26 18:57:24</td>\n",
       "      <td>Volkswagen_Golf_1.6_United</td>\n",
       "      <td>privat</td>\n",
       "      <td>Angebot</td>\n",
       "      <td>$8,990</td>\n",
       "      <td>test</td>\n",
       "      <td>limousine</td>\n",
       "      <td>2009</td>\n",
       "      <td>manuell</td>\n",
       "      <td>102</td>\n",
       "      <td>golf</td>\n",
       "      <td>70,000km</td>\n",
       "      <td>7</td>\n",
       "      <td>benzin</td>\n",
       "      <td>volkswagen</td>\n",
       "      <td>nein</td>\n",
       "      <td>2016-03-26 00:00:00</td>\n",
       "      <td>0</td>\n",
       "      <td>35394</td>\n",
       "      <td>2016-04-06 20:15:37</td>\n",
       "    </tr>\n",
       "    <tr>\n",
       "      <th>3</th>\n",
       "      <td>2016-03-12 16:58:10</td>\n",
       "      <td>Smart_smart_fortwo_coupe_softouch/F1/Klima/Pan...</td>\n",
       "      <td>privat</td>\n",
       "      <td>Angebot</td>\n",
       "      <td>$4,350</td>\n",
       "      <td>control</td>\n",
       "      <td>kleinwagen</td>\n",
       "      <td>2007</td>\n",
       "      <td>automatik</td>\n",
       "      <td>71</td>\n",
       "      <td>fortwo</td>\n",
       "      <td>70,000km</td>\n",
       "      <td>6</td>\n",
       "      <td>benzin</td>\n",
       "      <td>smart</td>\n",
       "      <td>nein</td>\n",
       "      <td>2016-03-12 00:00:00</td>\n",
       "      <td>0</td>\n",
       "      <td>33729</td>\n",
       "      <td>2016-03-15 03:16:28</td>\n",
       "    </tr>\n",
       "    <tr>\n",
       "      <th>4</th>\n",
       "      <td>2016-04-01 14:38:50</td>\n",
       "      <td>Ford_Focus_1_6_Benzin_TÜV_neu_ist_sehr_gepfleg...</td>\n",
       "      <td>privat</td>\n",
       "      <td>Angebot</td>\n",
       "      <td>$1,350</td>\n",
       "      <td>test</td>\n",
       "      <td>kombi</td>\n",
       "      <td>2003</td>\n",
       "      <td>manuell</td>\n",
       "      <td>0</td>\n",
       "      <td>focus</td>\n",
       "      <td>150,000km</td>\n",
       "      <td>7</td>\n",
       "      <td>benzin</td>\n",
       "      <td>ford</td>\n",
       "      <td>nein</td>\n",
       "      <td>2016-04-01 00:00:00</td>\n",
       "      <td>0</td>\n",
       "      <td>39218</td>\n",
       "      <td>2016-04-01 14:38:50</td>\n",
       "    </tr>\n",
       "  </tbody>\n",
       "</table>\n",
       "</div>"
      ],
      "text/plain": [
       "           dateCrawled                                               name  \\\n",
       "0  2016-03-26 17:47:46                   Peugeot_807_160_NAVTECH_ON_BOARD   \n",
       "1  2016-04-04 13:38:56         BMW_740i_4_4_Liter_HAMANN_UMBAU_Mega_Optik   \n",
       "2  2016-03-26 18:57:24                         Volkswagen_Golf_1.6_United   \n",
       "3  2016-03-12 16:58:10  Smart_smart_fortwo_coupe_softouch/F1/Klima/Pan...   \n",
       "4  2016-04-01 14:38:50  Ford_Focus_1_6_Benzin_TÜV_neu_ist_sehr_gepfleg...   \n",
       "\n",
       "   seller offerType   price   abtest vehicleType  yearOfRegistration  \\\n",
       "0  privat   Angebot  $5,000  control         bus                2004   \n",
       "1  privat   Angebot  $8,500  control   limousine                1997   \n",
       "2  privat   Angebot  $8,990     test   limousine                2009   \n",
       "3  privat   Angebot  $4,350  control  kleinwagen                2007   \n",
       "4  privat   Angebot  $1,350     test       kombi                2003   \n",
       "\n",
       "     gearbox  powerPS   model   odometer  monthOfRegistration fuelType  \\\n",
       "0    manuell      158  andere  150,000km                    3      lpg   \n",
       "1  automatik      286     7er  150,000km                    6   benzin   \n",
       "2    manuell      102    golf   70,000km                    7   benzin   \n",
       "3  automatik       71  fortwo   70,000km                    6   benzin   \n",
       "4    manuell        0   focus  150,000km                    7   benzin   \n",
       "\n",
       "        brand notRepairedDamage          dateCreated  nrOfPictures  \\\n",
       "0     peugeot              nein  2016-03-26 00:00:00             0   \n",
       "1         bmw              nein  2016-04-04 00:00:00             0   \n",
       "2  volkswagen              nein  2016-03-26 00:00:00             0   \n",
       "3       smart              nein  2016-03-12 00:00:00             0   \n",
       "4        ford              nein  2016-04-01 00:00:00             0   \n",
       "\n",
       "   postalCode             lastSeen  \n",
       "0       79588  2016-04-06 06:45:54  \n",
       "1       71034  2016-04-06 14:45:08  \n",
       "2       35394  2016-04-06 20:15:37  \n",
       "3       33729  2016-03-15 03:16:28  \n",
       "4       39218  2016-04-01 14:38:50  "
      ]
     },
     "execution_count": 3,
     "metadata": {},
     "output_type": "execute_result"
    }
   ],
   "source": [
    "autos.head()"
   ]
  },
  {
   "cell_type": "code",
   "execution_count": 4,
   "metadata": {
    "collapsed": false
   },
   "outputs": [
    {
     "name": "stdout",
     "output_type": "stream",
     "text": [
      "<class 'pandas.core.frame.DataFrame'>\n",
      "RangeIndex: 50000 entries, 0 to 49999\n",
      "Data columns (total 20 columns):\n",
      "dateCrawled            50000 non-null object\n",
      "name                   50000 non-null object\n",
      "seller                 50000 non-null object\n",
      "offerType              50000 non-null object\n",
      "price                  50000 non-null object\n",
      "abtest                 50000 non-null object\n",
      "vehicleType            44905 non-null object\n",
      "yearOfRegistration     50000 non-null int64\n",
      "gearbox                47320 non-null object\n",
      "powerPS                50000 non-null int64\n",
      "model                  47242 non-null object\n",
      "odometer               50000 non-null object\n",
      "monthOfRegistration    50000 non-null int64\n",
      "fuelType               45518 non-null object\n",
      "brand                  50000 non-null object\n",
      "notRepairedDamage      40171 non-null object\n",
      "dateCreated            50000 non-null object\n",
      "nrOfPictures           50000 non-null int64\n",
      "postalCode             50000 non-null int64\n",
      "lastSeen               50000 non-null object\n",
      "dtypes: int64(5), object(15)\n",
      "memory usage: 7.6+ MB\n"
     ]
    }
   ],
   "source": [
    "autos.info()"
   ]
  },
  {
   "cell_type": "markdown",
   "metadata": {},
   "source": [
    "## A Quick Look at the Data\n",
    "\n",
    "The imported dataset, `autos`, has 50,000 entries with 20 feature columns, 5 of which are integers and the other 15 appear to be strings or possibly datetime objects.\n",
    "\n",
    "A few of the columns appear to be missing a few entries, namely columns:\n",
    "* `vehicleType`\n",
    "* `gearbox`\n",
    "* `model`\n",
    "* `fuelType`\n",
    "* `notRepairedDamage`"
   ]
  },
  {
   "cell_type": "code",
   "execution_count": 5,
   "metadata": {
    "collapsed": true
   },
   "outputs": [],
   "source": [
    "columns = autos.columns\n",
    "\n",
    "new_columns = []\n",
    "\n",
    "# taken from stackoverflow (find link below)\n",
    "def convert(name):\n",
    "    s1 = re.sub('(.)([A-Z][a-z]+)', r'\\1_\\2', name)\n",
    "    return re.sub('([a-z0-9])([A-Z])', r'\\1_\\2', s1).lower()\n",
    "\n",
    "for col in columns:\n",
    "    new_columns.append(convert(col))\n",
    "    \n",
    "# replace old column names with 'snakecase' column names\n",
    "autos.columns = new_columns"
   ]
  },
  {
   "cell_type": "markdown",
   "metadata": {},
   "source": [
    "#### NOTE:\n",
    "The above function was taken from stackoverflow: [link](https://stackoverflow.com/questions/1175208/elegant-python-function-to-convert-camelcase-to-snake-case)\n",
    "\n",
    "Remember to import regex module: `import re`"
   ]
  },
  {
   "cell_type": "code",
   "execution_count": 6,
   "metadata": {
    "collapsed": false
   },
   "outputs": [
    {
     "data": {
      "text/html": [
       "<div>\n",
       "<style scoped>\n",
       "    .dataframe tbody tr th:only-of-type {\n",
       "        vertical-align: middle;\n",
       "    }\n",
       "\n",
       "    .dataframe tbody tr th {\n",
       "        vertical-align: top;\n",
       "    }\n",
       "\n",
       "    .dataframe thead th {\n",
       "        text-align: right;\n",
       "    }\n",
       "</style>\n",
       "<table border=\"1\" class=\"dataframe\">\n",
       "  <thead>\n",
       "    <tr style=\"text-align: right;\">\n",
       "      <th></th>\n",
       "      <th>date_crawled</th>\n",
       "      <th>name</th>\n",
       "      <th>seller</th>\n",
       "      <th>offer_type</th>\n",
       "      <th>price</th>\n",
       "      <th>abtest</th>\n",
       "      <th>vehicle_type</th>\n",
       "      <th>year_of_registration</th>\n",
       "      <th>gearbox</th>\n",
       "      <th>power_ps</th>\n",
       "      <th>model</th>\n",
       "      <th>odometer</th>\n",
       "      <th>month_of_registration</th>\n",
       "      <th>fuel_type</th>\n",
       "      <th>brand</th>\n",
       "      <th>not_repaired_damage</th>\n",
       "      <th>date_created</th>\n",
       "      <th>nr_of_pictures</th>\n",
       "      <th>postal_code</th>\n",
       "      <th>last_seen</th>\n",
       "    </tr>\n",
       "  </thead>\n",
       "  <tbody>\n",
       "    <tr>\n",
       "      <th>0</th>\n",
       "      <td>2016-03-26 17:47:46</td>\n",
       "      <td>Peugeot_807_160_NAVTECH_ON_BOARD</td>\n",
       "      <td>privat</td>\n",
       "      <td>Angebot</td>\n",
       "      <td>$5,000</td>\n",
       "      <td>control</td>\n",
       "      <td>bus</td>\n",
       "      <td>2004</td>\n",
       "      <td>manuell</td>\n",
       "      <td>158</td>\n",
       "      <td>andere</td>\n",
       "      <td>150,000km</td>\n",
       "      <td>3</td>\n",
       "      <td>lpg</td>\n",
       "      <td>peugeot</td>\n",
       "      <td>nein</td>\n",
       "      <td>2016-03-26 00:00:00</td>\n",
       "      <td>0</td>\n",
       "      <td>79588</td>\n",
       "      <td>2016-04-06 06:45:54</td>\n",
       "    </tr>\n",
       "    <tr>\n",
       "      <th>1</th>\n",
       "      <td>2016-04-04 13:38:56</td>\n",
       "      <td>BMW_740i_4_4_Liter_HAMANN_UMBAU_Mega_Optik</td>\n",
       "      <td>privat</td>\n",
       "      <td>Angebot</td>\n",
       "      <td>$8,500</td>\n",
       "      <td>control</td>\n",
       "      <td>limousine</td>\n",
       "      <td>1997</td>\n",
       "      <td>automatik</td>\n",
       "      <td>286</td>\n",
       "      <td>7er</td>\n",
       "      <td>150,000km</td>\n",
       "      <td>6</td>\n",
       "      <td>benzin</td>\n",
       "      <td>bmw</td>\n",
       "      <td>nein</td>\n",
       "      <td>2016-04-04 00:00:00</td>\n",
       "      <td>0</td>\n",
       "      <td>71034</td>\n",
       "      <td>2016-04-06 14:45:08</td>\n",
       "    </tr>\n",
       "    <tr>\n",
       "      <th>2</th>\n",
       "      <td>2016-03-26 18:57:24</td>\n",
       "      <td>Volkswagen_Golf_1.6_United</td>\n",
       "      <td>privat</td>\n",
       "      <td>Angebot</td>\n",
       "      <td>$8,990</td>\n",
       "      <td>test</td>\n",
       "      <td>limousine</td>\n",
       "      <td>2009</td>\n",
       "      <td>manuell</td>\n",
       "      <td>102</td>\n",
       "      <td>golf</td>\n",
       "      <td>70,000km</td>\n",
       "      <td>7</td>\n",
       "      <td>benzin</td>\n",
       "      <td>volkswagen</td>\n",
       "      <td>nein</td>\n",
       "      <td>2016-03-26 00:00:00</td>\n",
       "      <td>0</td>\n",
       "      <td>35394</td>\n",
       "      <td>2016-04-06 20:15:37</td>\n",
       "    </tr>\n",
       "    <tr>\n",
       "      <th>3</th>\n",
       "      <td>2016-03-12 16:58:10</td>\n",
       "      <td>Smart_smart_fortwo_coupe_softouch/F1/Klima/Pan...</td>\n",
       "      <td>privat</td>\n",
       "      <td>Angebot</td>\n",
       "      <td>$4,350</td>\n",
       "      <td>control</td>\n",
       "      <td>kleinwagen</td>\n",
       "      <td>2007</td>\n",
       "      <td>automatik</td>\n",
       "      <td>71</td>\n",
       "      <td>fortwo</td>\n",
       "      <td>70,000km</td>\n",
       "      <td>6</td>\n",
       "      <td>benzin</td>\n",
       "      <td>smart</td>\n",
       "      <td>nein</td>\n",
       "      <td>2016-03-12 00:00:00</td>\n",
       "      <td>0</td>\n",
       "      <td>33729</td>\n",
       "      <td>2016-03-15 03:16:28</td>\n",
       "    </tr>\n",
       "    <tr>\n",
       "      <th>4</th>\n",
       "      <td>2016-04-01 14:38:50</td>\n",
       "      <td>Ford_Focus_1_6_Benzin_TÜV_neu_ist_sehr_gepfleg...</td>\n",
       "      <td>privat</td>\n",
       "      <td>Angebot</td>\n",
       "      <td>$1,350</td>\n",
       "      <td>test</td>\n",
       "      <td>kombi</td>\n",
       "      <td>2003</td>\n",
       "      <td>manuell</td>\n",
       "      <td>0</td>\n",
       "      <td>focus</td>\n",
       "      <td>150,000km</td>\n",
       "      <td>7</td>\n",
       "      <td>benzin</td>\n",
       "      <td>ford</td>\n",
       "      <td>nein</td>\n",
       "      <td>2016-04-01 00:00:00</td>\n",
       "      <td>0</td>\n",
       "      <td>39218</td>\n",
       "      <td>2016-04-01 14:38:50</td>\n",
       "    </tr>\n",
       "  </tbody>\n",
       "</table>\n",
       "</div>"
      ],
      "text/plain": [
       "          date_crawled                                               name  \\\n",
       "0  2016-03-26 17:47:46                   Peugeot_807_160_NAVTECH_ON_BOARD   \n",
       "1  2016-04-04 13:38:56         BMW_740i_4_4_Liter_HAMANN_UMBAU_Mega_Optik   \n",
       "2  2016-03-26 18:57:24                         Volkswagen_Golf_1.6_United   \n",
       "3  2016-03-12 16:58:10  Smart_smart_fortwo_coupe_softouch/F1/Klima/Pan...   \n",
       "4  2016-04-01 14:38:50  Ford_Focus_1_6_Benzin_TÜV_neu_ist_sehr_gepfleg...   \n",
       "\n",
       "   seller offer_type   price   abtest vehicle_type  year_of_registration  \\\n",
       "0  privat    Angebot  $5,000  control          bus                  2004   \n",
       "1  privat    Angebot  $8,500  control    limousine                  1997   \n",
       "2  privat    Angebot  $8,990     test    limousine                  2009   \n",
       "3  privat    Angebot  $4,350  control   kleinwagen                  2007   \n",
       "4  privat    Angebot  $1,350     test        kombi                  2003   \n",
       "\n",
       "     gearbox  power_ps   model   odometer  month_of_registration fuel_type  \\\n",
       "0    manuell       158  andere  150,000km                      3       lpg   \n",
       "1  automatik       286     7er  150,000km                      6    benzin   \n",
       "2    manuell       102    golf   70,000km                      7    benzin   \n",
       "3  automatik        71  fortwo   70,000km                      6    benzin   \n",
       "4    manuell         0   focus  150,000km                      7    benzin   \n",
       "\n",
       "        brand not_repaired_damage         date_created  nr_of_pictures  \\\n",
       "0     peugeot                nein  2016-03-26 00:00:00               0   \n",
       "1         bmw                nein  2016-04-04 00:00:00               0   \n",
       "2  volkswagen                nein  2016-03-26 00:00:00               0   \n",
       "3       smart                nein  2016-03-12 00:00:00               0   \n",
       "4        ford                nein  2016-04-01 00:00:00               0   \n",
       "\n",
       "   postal_code            last_seen  \n",
       "0        79588  2016-04-06 06:45:54  \n",
       "1        71034  2016-04-06 14:45:08  \n",
       "2        35394  2016-04-06 20:15:37  \n",
       "3        33729  2016-03-15 03:16:28  \n",
       "4        39218  2016-04-01 14:38:50  "
      ]
     },
     "execution_count": 6,
     "metadata": {},
     "output_type": "execute_result"
    }
   ],
   "source": [
    "autos.head()"
   ]
  },
  {
   "cell_type": "code",
   "execution_count": 7,
   "metadata": {
    "collapsed": false
   },
   "outputs": [
    {
     "data": {
      "text/html": [
       "<div>\n",
       "<style scoped>\n",
       "    .dataframe tbody tr th:only-of-type {\n",
       "        vertical-align: middle;\n",
       "    }\n",
       "\n",
       "    .dataframe tbody tr th {\n",
       "        vertical-align: top;\n",
       "    }\n",
       "\n",
       "    .dataframe thead th {\n",
       "        text-align: right;\n",
       "    }\n",
       "</style>\n",
       "<table border=\"1\" class=\"dataframe\">\n",
       "  <thead>\n",
       "    <tr style=\"text-align: right;\">\n",
       "      <th></th>\n",
       "      <th>date_crawled</th>\n",
       "      <th>name</th>\n",
       "      <th>seller</th>\n",
       "      <th>offer_type</th>\n",
       "      <th>price</th>\n",
       "      <th>abtest</th>\n",
       "      <th>vehicle_type</th>\n",
       "      <th>year_of_registration</th>\n",
       "      <th>gearbox</th>\n",
       "      <th>power_ps</th>\n",
       "      <th>model</th>\n",
       "      <th>odometer</th>\n",
       "      <th>month_of_registration</th>\n",
       "      <th>fuel_type</th>\n",
       "      <th>brand</th>\n",
       "      <th>not_repaired_damage</th>\n",
       "      <th>date_created</th>\n",
       "      <th>nr_of_pictures</th>\n",
       "      <th>postal_code</th>\n",
       "      <th>last_seen</th>\n",
       "    </tr>\n",
       "  </thead>\n",
       "  <tbody>\n",
       "    <tr>\n",
       "      <th>count</th>\n",
       "      <td>50000</td>\n",
       "      <td>50000</td>\n",
       "      <td>50000</td>\n",
       "      <td>50000</td>\n",
       "      <td>50000</td>\n",
       "      <td>50000</td>\n",
       "      <td>44905</td>\n",
       "      <td>50000.000000</td>\n",
       "      <td>47320</td>\n",
       "      <td>50000.000000</td>\n",
       "      <td>47242</td>\n",
       "      <td>50000</td>\n",
       "      <td>50000.000000</td>\n",
       "      <td>45518</td>\n",
       "      <td>50000</td>\n",
       "      <td>40171</td>\n",
       "      <td>50000</td>\n",
       "      <td>50000.0</td>\n",
       "      <td>50000.000000</td>\n",
       "      <td>50000</td>\n",
       "    </tr>\n",
       "    <tr>\n",
       "      <th>unique</th>\n",
       "      <td>48213</td>\n",
       "      <td>38754</td>\n",
       "      <td>2</td>\n",
       "      <td>2</td>\n",
       "      <td>2357</td>\n",
       "      <td>2</td>\n",
       "      <td>8</td>\n",
       "      <td>NaN</td>\n",
       "      <td>2</td>\n",
       "      <td>NaN</td>\n",
       "      <td>245</td>\n",
       "      <td>13</td>\n",
       "      <td>NaN</td>\n",
       "      <td>7</td>\n",
       "      <td>40</td>\n",
       "      <td>2</td>\n",
       "      <td>76</td>\n",
       "      <td>NaN</td>\n",
       "      <td>NaN</td>\n",
       "      <td>39481</td>\n",
       "    </tr>\n",
       "    <tr>\n",
       "      <th>top</th>\n",
       "      <td>2016-03-16 21:50:53</td>\n",
       "      <td>Ford_Fiesta</td>\n",
       "      <td>privat</td>\n",
       "      <td>Angebot</td>\n",
       "      <td>$0</td>\n",
       "      <td>test</td>\n",
       "      <td>limousine</td>\n",
       "      <td>NaN</td>\n",
       "      <td>manuell</td>\n",
       "      <td>NaN</td>\n",
       "      <td>golf</td>\n",
       "      <td>150,000km</td>\n",
       "      <td>NaN</td>\n",
       "      <td>benzin</td>\n",
       "      <td>volkswagen</td>\n",
       "      <td>nein</td>\n",
       "      <td>2016-04-03 00:00:00</td>\n",
       "      <td>NaN</td>\n",
       "      <td>NaN</td>\n",
       "      <td>2016-04-07 06:17:27</td>\n",
       "    </tr>\n",
       "    <tr>\n",
       "      <th>freq</th>\n",
       "      <td>3</td>\n",
       "      <td>78</td>\n",
       "      <td>49999</td>\n",
       "      <td>49999</td>\n",
       "      <td>1421</td>\n",
       "      <td>25756</td>\n",
       "      <td>12859</td>\n",
       "      <td>NaN</td>\n",
       "      <td>36993</td>\n",
       "      <td>NaN</td>\n",
       "      <td>4024</td>\n",
       "      <td>32424</td>\n",
       "      <td>NaN</td>\n",
       "      <td>30107</td>\n",
       "      <td>10687</td>\n",
       "      <td>35232</td>\n",
       "      <td>1946</td>\n",
       "      <td>NaN</td>\n",
       "      <td>NaN</td>\n",
       "      <td>8</td>\n",
       "    </tr>\n",
       "    <tr>\n",
       "      <th>mean</th>\n",
       "      <td>NaN</td>\n",
       "      <td>NaN</td>\n",
       "      <td>NaN</td>\n",
       "      <td>NaN</td>\n",
       "      <td>NaN</td>\n",
       "      <td>NaN</td>\n",
       "      <td>NaN</td>\n",
       "      <td>2005.073280</td>\n",
       "      <td>NaN</td>\n",
       "      <td>116.355920</td>\n",
       "      <td>NaN</td>\n",
       "      <td>NaN</td>\n",
       "      <td>5.723360</td>\n",
       "      <td>NaN</td>\n",
       "      <td>NaN</td>\n",
       "      <td>NaN</td>\n",
       "      <td>NaN</td>\n",
       "      <td>0.0</td>\n",
       "      <td>50813.627300</td>\n",
       "      <td>NaN</td>\n",
       "    </tr>\n",
       "    <tr>\n",
       "      <th>std</th>\n",
       "      <td>NaN</td>\n",
       "      <td>NaN</td>\n",
       "      <td>NaN</td>\n",
       "      <td>NaN</td>\n",
       "      <td>NaN</td>\n",
       "      <td>NaN</td>\n",
       "      <td>NaN</td>\n",
       "      <td>105.712813</td>\n",
       "      <td>NaN</td>\n",
       "      <td>209.216627</td>\n",
       "      <td>NaN</td>\n",
       "      <td>NaN</td>\n",
       "      <td>3.711984</td>\n",
       "      <td>NaN</td>\n",
       "      <td>NaN</td>\n",
       "      <td>NaN</td>\n",
       "      <td>NaN</td>\n",
       "      <td>0.0</td>\n",
       "      <td>25779.747957</td>\n",
       "      <td>NaN</td>\n",
       "    </tr>\n",
       "    <tr>\n",
       "      <th>min</th>\n",
       "      <td>NaN</td>\n",
       "      <td>NaN</td>\n",
       "      <td>NaN</td>\n",
       "      <td>NaN</td>\n",
       "      <td>NaN</td>\n",
       "      <td>NaN</td>\n",
       "      <td>NaN</td>\n",
       "      <td>1000.000000</td>\n",
       "      <td>NaN</td>\n",
       "      <td>0.000000</td>\n",
       "      <td>NaN</td>\n",
       "      <td>NaN</td>\n",
       "      <td>0.000000</td>\n",
       "      <td>NaN</td>\n",
       "      <td>NaN</td>\n",
       "      <td>NaN</td>\n",
       "      <td>NaN</td>\n",
       "      <td>0.0</td>\n",
       "      <td>1067.000000</td>\n",
       "      <td>NaN</td>\n",
       "    </tr>\n",
       "    <tr>\n",
       "      <th>25%</th>\n",
       "      <td>NaN</td>\n",
       "      <td>NaN</td>\n",
       "      <td>NaN</td>\n",
       "      <td>NaN</td>\n",
       "      <td>NaN</td>\n",
       "      <td>NaN</td>\n",
       "      <td>NaN</td>\n",
       "      <td>1999.000000</td>\n",
       "      <td>NaN</td>\n",
       "      <td>70.000000</td>\n",
       "      <td>NaN</td>\n",
       "      <td>NaN</td>\n",
       "      <td>3.000000</td>\n",
       "      <td>NaN</td>\n",
       "      <td>NaN</td>\n",
       "      <td>NaN</td>\n",
       "      <td>NaN</td>\n",
       "      <td>0.0</td>\n",
       "      <td>30451.000000</td>\n",
       "      <td>NaN</td>\n",
       "    </tr>\n",
       "    <tr>\n",
       "      <th>50%</th>\n",
       "      <td>NaN</td>\n",
       "      <td>NaN</td>\n",
       "      <td>NaN</td>\n",
       "      <td>NaN</td>\n",
       "      <td>NaN</td>\n",
       "      <td>NaN</td>\n",
       "      <td>NaN</td>\n",
       "      <td>2003.000000</td>\n",
       "      <td>NaN</td>\n",
       "      <td>105.000000</td>\n",
       "      <td>NaN</td>\n",
       "      <td>NaN</td>\n",
       "      <td>6.000000</td>\n",
       "      <td>NaN</td>\n",
       "      <td>NaN</td>\n",
       "      <td>NaN</td>\n",
       "      <td>NaN</td>\n",
       "      <td>0.0</td>\n",
       "      <td>49577.000000</td>\n",
       "      <td>NaN</td>\n",
       "    </tr>\n",
       "    <tr>\n",
       "      <th>75%</th>\n",
       "      <td>NaN</td>\n",
       "      <td>NaN</td>\n",
       "      <td>NaN</td>\n",
       "      <td>NaN</td>\n",
       "      <td>NaN</td>\n",
       "      <td>NaN</td>\n",
       "      <td>NaN</td>\n",
       "      <td>2008.000000</td>\n",
       "      <td>NaN</td>\n",
       "      <td>150.000000</td>\n",
       "      <td>NaN</td>\n",
       "      <td>NaN</td>\n",
       "      <td>9.000000</td>\n",
       "      <td>NaN</td>\n",
       "      <td>NaN</td>\n",
       "      <td>NaN</td>\n",
       "      <td>NaN</td>\n",
       "      <td>0.0</td>\n",
       "      <td>71540.000000</td>\n",
       "      <td>NaN</td>\n",
       "    </tr>\n",
       "    <tr>\n",
       "      <th>max</th>\n",
       "      <td>NaN</td>\n",
       "      <td>NaN</td>\n",
       "      <td>NaN</td>\n",
       "      <td>NaN</td>\n",
       "      <td>NaN</td>\n",
       "      <td>NaN</td>\n",
       "      <td>NaN</td>\n",
       "      <td>9999.000000</td>\n",
       "      <td>NaN</td>\n",
       "      <td>17700.000000</td>\n",
       "      <td>NaN</td>\n",
       "      <td>NaN</td>\n",
       "      <td>12.000000</td>\n",
       "      <td>NaN</td>\n",
       "      <td>NaN</td>\n",
       "      <td>NaN</td>\n",
       "      <td>NaN</td>\n",
       "      <td>0.0</td>\n",
       "      <td>99998.000000</td>\n",
       "      <td>NaN</td>\n",
       "    </tr>\n",
       "  </tbody>\n",
       "</table>\n",
       "</div>"
      ],
      "text/plain": [
       "               date_crawled         name  seller offer_type  price abtest  \\\n",
       "count                 50000        50000   50000      50000  50000  50000   \n",
       "unique                48213        38754       2          2   2357      2   \n",
       "top     2016-03-16 21:50:53  Ford_Fiesta  privat    Angebot     $0   test   \n",
       "freq                      3           78   49999      49999   1421  25756   \n",
       "mean                    NaN          NaN     NaN        NaN    NaN    NaN   \n",
       "std                     NaN          NaN     NaN        NaN    NaN    NaN   \n",
       "min                     NaN          NaN     NaN        NaN    NaN    NaN   \n",
       "25%                     NaN          NaN     NaN        NaN    NaN    NaN   \n",
       "50%                     NaN          NaN     NaN        NaN    NaN    NaN   \n",
       "75%                     NaN          NaN     NaN        NaN    NaN    NaN   \n",
       "max                     NaN          NaN     NaN        NaN    NaN    NaN   \n",
       "\n",
       "       vehicle_type  year_of_registration  gearbox      power_ps  model  \\\n",
       "count         44905          50000.000000    47320  50000.000000  47242   \n",
       "unique            8                   NaN        2           NaN    245   \n",
       "top       limousine                   NaN  manuell           NaN   golf   \n",
       "freq          12859                   NaN    36993           NaN   4024   \n",
       "mean            NaN           2005.073280      NaN    116.355920    NaN   \n",
       "std             NaN            105.712813      NaN    209.216627    NaN   \n",
       "min             NaN           1000.000000      NaN      0.000000    NaN   \n",
       "25%             NaN           1999.000000      NaN     70.000000    NaN   \n",
       "50%             NaN           2003.000000      NaN    105.000000    NaN   \n",
       "75%             NaN           2008.000000      NaN    150.000000    NaN   \n",
       "max             NaN           9999.000000      NaN  17700.000000    NaN   \n",
       "\n",
       "         odometer  month_of_registration fuel_type       brand  \\\n",
       "count       50000           50000.000000     45518       50000   \n",
       "unique         13                    NaN         7          40   \n",
       "top     150,000km                    NaN    benzin  volkswagen   \n",
       "freq        32424                    NaN     30107       10687   \n",
       "mean          NaN               5.723360       NaN         NaN   \n",
       "std           NaN               3.711984       NaN         NaN   \n",
       "min           NaN               0.000000       NaN         NaN   \n",
       "25%           NaN               3.000000       NaN         NaN   \n",
       "50%           NaN               6.000000       NaN         NaN   \n",
       "75%           NaN               9.000000       NaN         NaN   \n",
       "max           NaN              12.000000       NaN         NaN   \n",
       "\n",
       "       not_repaired_damage         date_created  nr_of_pictures   postal_code  \\\n",
       "count                40171                50000         50000.0  50000.000000   \n",
       "unique                   2                   76             NaN           NaN   \n",
       "top                   nein  2016-04-03 00:00:00             NaN           NaN   \n",
       "freq                 35232                 1946             NaN           NaN   \n",
       "mean                   NaN                  NaN             0.0  50813.627300   \n",
       "std                    NaN                  NaN             0.0  25779.747957   \n",
       "min                    NaN                  NaN             0.0   1067.000000   \n",
       "25%                    NaN                  NaN             0.0  30451.000000   \n",
       "50%                    NaN                  NaN             0.0  49577.000000   \n",
       "75%                    NaN                  NaN             0.0  71540.000000   \n",
       "max                    NaN                  NaN             0.0  99998.000000   \n",
       "\n",
       "                  last_seen  \n",
       "count                 50000  \n",
       "unique                39481  \n",
       "top     2016-04-07 06:17:27  \n",
       "freq                      8  \n",
       "mean                    NaN  \n",
       "std                     NaN  \n",
       "min                     NaN  \n",
       "25%                     NaN  \n",
       "50%                     NaN  \n",
       "75%                     NaN  \n",
       "max                     NaN  "
      ]
     },
     "execution_count": 7,
     "metadata": {},
     "output_type": "execute_result"
    }
   ],
   "source": [
    "autos.describe(include='all')"
   ]
  },
  {
   "cell_type": "code",
   "execution_count": 8,
   "metadata": {
    "collapsed": false
   },
   "outputs": [
    {
     "data": {
      "text/html": [
       "<div>\n",
       "<style scoped>\n",
       "    .dataframe tbody tr th:only-of-type {\n",
       "        vertical-align: middle;\n",
       "    }\n",
       "\n",
       "    .dataframe tbody tr th {\n",
       "        vertical-align: top;\n",
       "    }\n",
       "\n",
       "    .dataframe thead th {\n",
       "        text-align: right;\n",
       "    }\n",
       "</style>\n",
       "<table border=\"1\" class=\"dataframe\">\n",
       "  <thead>\n",
       "    <tr style=\"text-align: right;\">\n",
       "      <th></th>\n",
       "      <th>date_crawled</th>\n",
       "      <th>name</th>\n",
       "      <th>seller</th>\n",
       "      <th>offer_type</th>\n",
       "      <th>price</th>\n",
       "      <th>abtest</th>\n",
       "      <th>vehicle_type</th>\n",
       "      <th>year_of_registration</th>\n",
       "      <th>gearbox</th>\n",
       "      <th>power_ps</th>\n",
       "      <th>model</th>\n",
       "      <th>odometer</th>\n",
       "      <th>month_of_registration</th>\n",
       "      <th>fuel_type</th>\n",
       "      <th>brand</th>\n",
       "      <th>not_repaired_damage</th>\n",
       "      <th>date_created</th>\n",
       "      <th>nr_of_pictures</th>\n",
       "      <th>postal_code</th>\n",
       "      <th>last_seen</th>\n",
       "    </tr>\n",
       "  </thead>\n",
       "  <tbody>\n",
       "    <tr>\n",
       "      <th>7738</th>\n",
       "      <td>2016-03-15 18:06:22</td>\n",
       "      <td>Verkaufe_mehrere_Fahrzeuge_zum_Verschrotten</td>\n",
       "      <td>gewerblich</td>\n",
       "      <td>Angebot</td>\n",
       "      <td>$100</td>\n",
       "      <td>control</td>\n",
       "      <td>kombi</td>\n",
       "      <td>2000</td>\n",
       "      <td>manuell</td>\n",
       "      <td>0</td>\n",
       "      <td>megane</td>\n",
       "      <td>150,000km</td>\n",
       "      <td>8</td>\n",
       "      <td>benzin</td>\n",
       "      <td>renault</td>\n",
       "      <td>NaN</td>\n",
       "      <td>2016-03-15 00:00:00</td>\n",
       "      <td>0</td>\n",
       "      <td>65232</td>\n",
       "      <td>2016-04-06 17:15:37</td>\n",
       "    </tr>\n",
       "  </tbody>\n",
       "</table>\n",
       "</div>"
      ],
      "text/plain": [
       "             date_crawled                                         name  \\\n",
       "7738  2016-03-15 18:06:22  Verkaufe_mehrere_Fahrzeuge_zum_Verschrotten   \n",
       "\n",
       "          seller offer_type price   abtest vehicle_type  year_of_registration  \\\n",
       "7738  gewerblich    Angebot  $100  control        kombi                  2000   \n",
       "\n",
       "      gearbox  power_ps   model   odometer  month_of_registration fuel_type  \\\n",
       "7738  manuell         0  megane  150,000km                      8    benzin   \n",
       "\n",
       "        brand not_repaired_damage         date_created  nr_of_pictures  \\\n",
       "7738  renault                 NaN  2016-03-15 00:00:00               0   \n",
       "\n",
       "      postal_code            last_seen  \n",
       "7738        65232  2016-04-06 17:15:37  "
      ]
     },
     "execution_count": 8,
     "metadata": {},
     "output_type": "execute_result"
    }
   ],
   "source": [
    "autos[autos['seller'] != 'privat']"
   ]
  },
  {
   "cell_type": "code",
   "execution_count": 9,
   "metadata": {
    "collapsed": false
   },
   "outputs": [
    {
     "data": {
      "text/html": [
       "<div>\n",
       "<style scoped>\n",
       "    .dataframe tbody tr th:only-of-type {\n",
       "        vertical-align: middle;\n",
       "    }\n",
       "\n",
       "    .dataframe tbody tr th {\n",
       "        vertical-align: top;\n",
       "    }\n",
       "\n",
       "    .dataframe thead th {\n",
       "        text-align: right;\n",
       "    }\n",
       "</style>\n",
       "<table border=\"1\" class=\"dataframe\">\n",
       "  <thead>\n",
       "    <tr style=\"text-align: right;\">\n",
       "      <th></th>\n",
       "      <th>date_crawled</th>\n",
       "      <th>name</th>\n",
       "      <th>seller</th>\n",
       "      <th>offer_type</th>\n",
       "      <th>price</th>\n",
       "      <th>abtest</th>\n",
       "      <th>vehicle_type</th>\n",
       "      <th>year_of_registration</th>\n",
       "      <th>gearbox</th>\n",
       "      <th>power_ps</th>\n",
       "      <th>model</th>\n",
       "      <th>odometer</th>\n",
       "      <th>month_of_registration</th>\n",
       "      <th>fuel_type</th>\n",
       "      <th>brand</th>\n",
       "      <th>not_repaired_damage</th>\n",
       "      <th>date_created</th>\n",
       "      <th>nr_of_pictures</th>\n",
       "      <th>postal_code</th>\n",
       "      <th>last_seen</th>\n",
       "    </tr>\n",
       "  </thead>\n",
       "  <tbody>\n",
       "    <tr>\n",
       "      <th>17541</th>\n",
       "      <td>2016-04-03 15:48:33</td>\n",
       "      <td>Suche_VW_T5_Multivan</td>\n",
       "      <td>privat</td>\n",
       "      <td>Gesuch</td>\n",
       "      <td>$0</td>\n",
       "      <td>test</td>\n",
       "      <td>bus</td>\n",
       "      <td>2005</td>\n",
       "      <td>NaN</td>\n",
       "      <td>0</td>\n",
       "      <td>transporter</td>\n",
       "      <td>150,000km</td>\n",
       "      <td>0</td>\n",
       "      <td>NaN</td>\n",
       "      <td>volkswagen</td>\n",
       "      <td>NaN</td>\n",
       "      <td>2016-04-03 00:00:00</td>\n",
       "      <td>0</td>\n",
       "      <td>29690</td>\n",
       "      <td>2016-04-05 15:16:06</td>\n",
       "    </tr>\n",
       "  </tbody>\n",
       "</table>\n",
       "</div>"
      ],
      "text/plain": [
       "              date_crawled                  name  seller offer_type price  \\\n",
       "17541  2016-04-03 15:48:33  Suche_VW_T5_Multivan  privat     Gesuch    $0   \n",
       "\n",
       "      abtest vehicle_type  year_of_registration gearbox  power_ps  \\\n",
       "17541   test          bus                  2005     NaN         0   \n",
       "\n",
       "             model   odometer  month_of_registration fuel_type       brand  \\\n",
       "17541  transporter  150,000km                      0       NaN  volkswagen   \n",
       "\n",
       "      not_repaired_damage         date_created  nr_of_pictures  postal_code  \\\n",
       "17541                 NaN  2016-04-03 00:00:00               0        29690   \n",
       "\n",
       "                 last_seen  \n",
       "17541  2016-04-05 15:16:06  "
      ]
     },
     "execution_count": 9,
     "metadata": {},
     "output_type": "execute_result"
    }
   ],
   "source": [
    "autos[autos['offer_type'] != 'Angebot']"
   ]
  },
  {
   "cell_type": "code",
   "execution_count": 10,
   "metadata": {
    "collapsed": false
   },
   "outputs": [
    {
     "data": {
      "text/html": [
       "<div>\n",
       "<style scoped>\n",
       "    .dataframe tbody tr th:only-of-type {\n",
       "        vertical-align: middle;\n",
       "    }\n",
       "\n",
       "    .dataframe tbody tr th {\n",
       "        vertical-align: top;\n",
       "    }\n",
       "\n",
       "    .dataframe thead th {\n",
       "        text-align: right;\n",
       "    }\n",
       "</style>\n",
       "<table border=\"1\" class=\"dataframe\">\n",
       "  <thead>\n",
       "    <tr style=\"text-align: right;\">\n",
       "      <th></th>\n",
       "      <th>date_crawled</th>\n",
       "      <th>name</th>\n",
       "      <th>seller</th>\n",
       "      <th>offer_type</th>\n",
       "      <th>price</th>\n",
       "      <th>abtest</th>\n",
       "      <th>vehicle_type</th>\n",
       "      <th>year_of_registration</th>\n",
       "      <th>gearbox</th>\n",
       "      <th>power_ps</th>\n",
       "      <th>model</th>\n",
       "      <th>odometer</th>\n",
       "      <th>month_of_registration</th>\n",
       "      <th>fuel_type</th>\n",
       "      <th>brand</th>\n",
       "      <th>not_repaired_damage</th>\n",
       "      <th>date_created</th>\n",
       "      <th>nr_of_pictures</th>\n",
       "      <th>postal_code</th>\n",
       "      <th>last_seen</th>\n",
       "    </tr>\n",
       "  </thead>\n",
       "  <tbody>\n",
       "  </tbody>\n",
       "</table>\n",
       "</div>"
      ],
      "text/plain": [
       "Empty DataFrame\n",
       "Columns: [date_crawled, name, seller, offer_type, price, abtest, vehicle_type, year_of_registration, gearbox, power_ps, model, odometer, month_of_registration, fuel_type, brand, not_repaired_damage, date_created, nr_of_pictures, postal_code, last_seen]\n",
       "Index: []"
      ]
     },
     "execution_count": 10,
     "metadata": {},
     "output_type": "execute_result"
    }
   ],
   "source": [
    "autos[autos['nr_of_pictures'] != 0]"
   ]
  },
  {
   "cell_type": "code",
   "execution_count": 11,
   "metadata": {
    "collapsed": false
   },
   "outputs": [
    {
     "data": {
      "text/plain": [
       "test       25756\n",
       "control    24244\n",
       "Name: abtest, dtype: int64"
      ]
     },
     "execution_count": 11,
     "metadata": {},
     "output_type": "execute_result"
    }
   ],
   "source": [
    "autos['abtest'].value_counts()"
   ]
  },
  {
   "cell_type": "code",
   "execution_count": 12,
   "metadata": {
    "collapsed": false
   },
   "outputs": [
    {
     "name": "stdout",
     "output_type": "stream",
     "text": [
      "0    2016-03-26 17:47:46\n",
      "1    2016-04-04 13:38:56\n",
      "2    2016-03-26 18:57:24\n",
      "3    2016-03-12 16:58:10\n",
      "4    2016-04-01 14:38:50\n",
      "Name: date_crawled, dtype: object\n",
      "\n",
      "\n",
      "<class 'str'>\n"
     ]
    }
   ],
   "source": [
    "print(autos['date_crawled'].head())\n",
    "print('\\n')\n",
    "print(type(autos['date_crawled'].head()[0]))"
   ]
  },
  {
   "cell_type": "code",
   "execution_count": 13,
   "metadata": {
    "collapsed": false
   },
   "outputs": [
    {
     "name": "stdout",
     "output_type": "stream",
     "text": [
      "0    $5,000\n",
      "1    $8,500\n",
      "2    $8,990\n",
      "3    $4,350\n",
      "4    $1,350\n",
      "Name: price, dtype: object\n",
      "\n",
      "\n",
      "<class 'str'>\n"
     ]
    }
   ],
   "source": [
    "print(autos['price'].head())\n",
    "print('\\n')\n",
    "print(type(autos['price'].head()[0]))"
   ]
  },
  {
   "cell_type": "code",
   "execution_count": 14,
   "metadata": {
    "collapsed": false
   },
   "outputs": [
    {
     "name": "stdout",
     "output_type": "stream",
     "text": [
      "0    150,000km\n",
      "1    150,000km\n",
      "2     70,000km\n",
      "3     70,000km\n",
      "4    150,000km\n",
      "Name: odometer, dtype: object\n",
      "\n",
      "\n",
      "<class 'str'>\n"
     ]
    }
   ],
   "source": [
    "print(autos['odometer'].head())\n",
    "print('\\n')\n",
    "print(type(autos['odometer'].head()[0]))"
   ]
  },
  {
   "cell_type": "code",
   "execution_count": 15,
   "metadata": {
    "collapsed": false
   },
   "outputs": [
    {
     "name": "stdout",
     "output_type": "stream",
     "text": [
      "0    2016-03-26 00:00:00\n",
      "1    2016-04-04 00:00:00\n",
      "2    2016-03-26 00:00:00\n",
      "3    2016-03-12 00:00:00\n",
      "4    2016-04-01 00:00:00\n",
      "Name: date_created, dtype: object\n",
      "\n",
      "\n",
      "<class 'str'>\n"
     ]
    }
   ],
   "source": [
    "print(autos['date_created'].head())\n",
    "print('\\n')\n",
    "print(type(autos['date_created'].head()[0]))"
   ]
  },
  {
   "cell_type": "code",
   "execution_count": 16,
   "metadata": {
    "collapsed": false
   },
   "outputs": [
    {
     "name": "stdout",
     "output_type": "stream",
     "text": [
      "0    2016-04-06 06:45:54\n",
      "1    2016-04-06 14:45:08\n",
      "2    2016-04-06 20:15:37\n",
      "3    2016-03-15 03:16:28\n",
      "4    2016-04-01 14:38:50\n",
      "Name: last_seen, dtype: object\n",
      "\n",
      "\n",
      "<class 'str'>\n"
     ]
    }
   ],
   "source": [
    "print(autos['last_seen'].head())\n",
    "print('\\n')\n",
    "print(type(autos['last_seen'].head()[0]))"
   ]
  },
  {
   "cell_type": "markdown",
   "metadata": {},
   "source": [
    "## A More Close Look at the Data\n",
    "\n",
    "1. The two features `seller` and `offer_type` have the same value for all rows, `privat` (private) and `Angebot` (offer) respectively, except for one row each. Both of these rows will provide little insight into the data and can be dropped. \n",
    "\n",
    "2. As for the `nr_of_pictures` features, there appears to be 0 pictures for every single row and therefore can also be dropped.\n",
    "\n",
    "3. Lastly there are two features, `price` and `odometer` which are currently encoded as strings but would be useful if converted to integers (or possibly floats).\n",
    "\n",
    "4. Three of the features, `date_crawled`, `date_created` and `last_seen` are all in string format. It might be useful to convert these columns into datatime objects. I will holdoff on this until more analysis is performed.\n",
    "\n"
   ]
  },
  {
   "cell_type": "code",
   "execution_count": 17,
   "metadata": {
    "collapsed": false
   },
   "outputs": [],
   "source": [
    "# Drop (remove) `seller`, `offer_type` and `nr_of_pictures` \n",
    "# columns from dataframe\n",
    "autos.drop(columns='seller', inplace=True)\n",
    "autos.drop(columns='offer_type', inplace=True)\n",
    "autos.drop(columns='nr_of_pictures', inplace=True)"
   ]
  },
  {
   "cell_type": "code",
   "execution_count": 18,
   "metadata": {
    "collapsed": false
   },
   "outputs": [
    {
     "data": {
      "text/plain": [
       "0    5000.0\n",
       "1    8500.0\n",
       "2    8990.0\n",
       "3    4350.0\n",
       "4    1350.0\n",
       "Name: price, dtype: float64"
      ]
     },
     "execution_count": 18,
     "metadata": {},
     "output_type": "execute_result"
    }
   ],
   "source": [
    "# Clean and convert `price` column to float type\n",
    "autos['price'] = autos['price'].str.replace('$', '')\n",
    "autos['price'] = autos['price'].str.replace(',', '')\n",
    "autos['price'] = autos['price'].astype(float)\n",
    "\n",
    "autos['price'].head()"
   ]
  },
  {
   "cell_type": "code",
   "execution_count": 19,
   "metadata": {
    "collapsed": false
   },
   "outputs": [
    {
     "data": {
      "text/plain": [
       "0    150000.0\n",
       "1    150000.0\n",
       "2     70000.0\n",
       "3     70000.0\n",
       "4    150000.0\n",
       "Name: odometer_km, dtype: float64"
      ]
     },
     "execution_count": 19,
     "metadata": {},
     "output_type": "execute_result"
    }
   ],
   "source": [
    "# Clean and convert `odometer` column to float type\n",
    "autos['odometer'] = autos['odometer'].str.replace('km', '')\n",
    "autos['odometer'] = autos['odometer'].str.replace(',', '')\n",
    "autos['odometer'] = autos['odometer'].astype(float)\n",
    "\n",
    "# Rename `odometer` to `odometer_km`\n",
    "autos.rename({'odometer':'odometer_km'}, axis=1, inplace=True)\n",
    "\n",
    "autos['odometer_km'].head()"
   ]
  },
  {
   "cell_type": "code",
   "execution_count": 20,
   "metadata": {
    "collapsed": false
   },
   "outputs": [
    {
     "name": "stdout",
     "output_type": "stream",
     "text": [
      "<class 'pandas.core.frame.DataFrame'>\n",
      "RangeIndex: 50000 entries, 0 to 49999\n",
      "Data columns (total 17 columns):\n",
      "date_crawled             50000 non-null object\n",
      "name                     50000 non-null object\n",
      "price                    50000 non-null float64\n",
      "abtest                   50000 non-null object\n",
      "vehicle_type             44905 non-null object\n",
      "year_of_registration     50000 non-null int64\n",
      "gearbox                  47320 non-null object\n",
      "power_ps                 50000 non-null int64\n",
      "model                    47242 non-null object\n",
      "odometer_km              50000 non-null float64\n",
      "month_of_registration    50000 non-null int64\n",
      "fuel_type                45518 non-null object\n",
      "brand                    50000 non-null object\n",
      "not_repaired_damage      40171 non-null object\n",
      "date_created             50000 non-null object\n",
      "postal_code              50000 non-null int64\n",
      "last_seen                50000 non-null object\n",
      "dtypes: float64(2), int64(4), object(11)\n",
      "memory usage: 6.5+ MB\n"
     ]
    }
   ],
   "source": [
    "autos.info()"
   ]
  },
  {
   "cell_type": "markdown",
   "metadata": {},
   "source": [
    "### Exploring `price` and `odometer_km`\n",
    "Since these features can take on a large range of values, I will explore them in a little more detail to determine if there are many outliers or anomalous data points."
   ]
  },
  {
   "cell_type": "code",
   "execution_count": 21,
   "metadata": {
    "collapsed": false
   },
   "outputs": [
    {
     "name": "stdout",
     "output_type": "stream",
     "text": [
      "Lowest price listed: $ 0.0\n",
      "Most expensive price listed: $ 99999999.0\n"
     ]
    }
   ],
   "source": [
    "print('Lowest price listed: $', autos['price'].min())\n",
    "print('Most expensive price listed: $', autos['price'].max())"
   ]
  },
  {
   "cell_type": "code",
   "execution_count": 22,
   "metadata": {
    "collapsed": false,
    "scrolled": true
   },
   "outputs": [
    {
     "name": "stdout",
     "output_type": "stream",
     "text": [
      "Number of unique prices listed: 2357 \n",
      "\n",
      "count    5.000000e+04\n",
      "mean     9.840044e+03\n",
      "std      4.811044e+05\n",
      "min      0.000000e+00\n",
      "25%      1.100000e+03\n",
      "50%      2.950000e+03\n",
      "75%      7.200000e+03\n",
      "max      1.000000e+08\n",
      "Name: price, dtype: float64\n"
     ]
    }
   ],
   "source": [
    "print('Number of unique prices listed:', autos['price'].unique().shape[0], '\\n')\n",
    "print(autos['price'].describe())"
   ]
  },
  {
   "cell_type": "code",
   "execution_count": 23,
   "metadata": {
    "collapsed": false
   },
   "outputs": [
    {
     "data": {
      "text/plain": [
       "0.0      1421\n",
       "1.0       156\n",
       "2.0         3\n",
       "3.0         1\n",
       "5.0         2\n",
       "8.0         1\n",
       "9.0         1\n",
       "10.0        7\n",
       "11.0        2\n",
       "12.0        3\n",
       "13.0        2\n",
       "14.0        1\n",
       "15.0        2\n",
       "17.0        3\n",
       "18.0        1\n",
       "20.0        4\n",
       "25.0        5\n",
       "29.0        1\n",
       "30.0        7\n",
       "35.0        1\n",
       "40.0        6\n",
       "45.0        4\n",
       "47.0        1\n",
       "49.0        4\n",
       "50.0       49\n",
       "55.0        2\n",
       "59.0        1\n",
       "60.0        9\n",
       "65.0        5\n",
       "66.0        1\n",
       "70.0       10\n",
       "75.0        5\n",
       "79.0        1\n",
       "80.0       15\n",
       "89.0        1\n",
       "90.0        5\n",
       "99.0       19\n",
       "100.0     134\n",
       "110.0       3\n",
       "111.0       2\n",
       "115.0       2\n",
       "117.0       1\n",
       "120.0      39\n",
       "122.0       1\n",
       "125.0       8\n",
       "129.0       1\n",
       "130.0      15\n",
       "135.0       1\n",
       "139.0       1\n",
       "140.0       9\n",
       "Name: price, dtype: int64"
      ]
     },
     "execution_count": 23,
     "metadata": {},
     "output_type": "execute_result"
    }
   ],
   "source": [
    "autos['price'].value_counts().sort_index(ascending=True).head(50)"
   ]
  },
  {
   "cell_type": "code",
   "execution_count": 24,
   "metadata": {
    "collapsed": false
   },
   "outputs": [
    {
     "data": {
      "text/html": [
       "<div>\n",
       "<style scoped>\n",
       "    .dataframe tbody tr th:only-of-type {\n",
       "        vertical-align: middle;\n",
       "    }\n",
       "\n",
       "    .dataframe tbody tr th {\n",
       "        vertical-align: top;\n",
       "    }\n",
       "\n",
       "    .dataframe thead th {\n",
       "        text-align: right;\n",
       "    }\n",
       "</style>\n",
       "<table border=\"1\" class=\"dataframe\">\n",
       "  <thead>\n",
       "    <tr style=\"text-align: right;\">\n",
       "      <th></th>\n",
       "      <th>date_crawled</th>\n",
       "      <th>name</th>\n",
       "      <th>price</th>\n",
       "      <th>abtest</th>\n",
       "      <th>vehicle_type</th>\n",
       "      <th>year_of_registration</th>\n",
       "      <th>gearbox</th>\n",
       "      <th>power_ps</th>\n",
       "      <th>model</th>\n",
       "      <th>odometer_km</th>\n",
       "      <th>month_of_registration</th>\n",
       "      <th>fuel_type</th>\n",
       "      <th>brand</th>\n",
       "      <th>not_repaired_damage</th>\n",
       "      <th>date_created</th>\n",
       "      <th>postal_code</th>\n",
       "      <th>last_seen</th>\n",
       "    </tr>\n",
       "  </thead>\n",
       "  <tbody>\n",
       "    <tr>\n",
       "      <th>461</th>\n",
       "      <td>2016-03-17 12:54:04</td>\n",
       "      <td>Gut_erhaltene_Alufelgen</td>\n",
       "      <td>100.0</td>\n",
       "      <td>test</td>\n",
       "      <td>NaN</td>\n",
       "      <td>2008</td>\n",
       "      <td>NaN</td>\n",
       "      <td>0</td>\n",
       "      <td>NaN</td>\n",
       "      <td>30000.0</td>\n",
       "      <td>0</td>\n",
       "      <td>NaN</td>\n",
       "      <td>sonstige_autos</td>\n",
       "      <td>NaN</td>\n",
       "      <td>2016-03-17 00:00:00</td>\n",
       "      <td>66440</td>\n",
       "      <td>2016-03-27 00:16:38</td>\n",
       "    </tr>\n",
       "    <tr>\n",
       "      <th>1097</th>\n",
       "      <td>2016-03-15 20:48:32</td>\n",
       "      <td>Ford_ka_!!!!</td>\n",
       "      <td>100.0</td>\n",
       "      <td>test</td>\n",
       "      <td>NaN</td>\n",
       "      <td>2000</td>\n",
       "      <td>manuell</td>\n",
       "      <td>60</td>\n",
       "      <td>ka</td>\n",
       "      <td>150000.0</td>\n",
       "      <td>0</td>\n",
       "      <td>benzin</td>\n",
       "      <td>ford</td>\n",
       "      <td>NaN</td>\n",
       "      <td>2016-03-15 00:00:00</td>\n",
       "      <td>54290</td>\n",
       "      <td>2016-04-07 03:45:23</td>\n",
       "    </tr>\n",
       "    <tr>\n",
       "      <th>1432</th>\n",
       "      <td>2016-03-07 13:52:40</td>\n",
       "      <td>Ford_Escort_90PS_Kombi</td>\n",
       "      <td>100.0</td>\n",
       "      <td>control</td>\n",
       "      <td>kombi</td>\n",
       "      <td>1995</td>\n",
       "      <td>manuell</td>\n",
       "      <td>90</td>\n",
       "      <td>escort</td>\n",
       "      <td>150000.0</td>\n",
       "      <td>1</td>\n",
       "      <td>benzin</td>\n",
       "      <td>ford</td>\n",
       "      <td>ja</td>\n",
       "      <td>2016-03-07 00:00:00</td>\n",
       "      <td>95497</td>\n",
       "      <td>2016-03-17 17:15:34</td>\n",
       "    </tr>\n",
       "    <tr>\n",
       "      <th>2557</th>\n",
       "      <td>2016-03-22 20:54:12</td>\n",
       "      <td>Peugeot_106__Totalschaden</td>\n",
       "      <td>100.0</td>\n",
       "      <td>control</td>\n",
       "      <td>kleinwagen</td>\n",
       "      <td>2000</td>\n",
       "      <td>manuell</td>\n",
       "      <td>0</td>\n",
       "      <td>1_reihe</td>\n",
       "      <td>150000.0</td>\n",
       "      <td>0</td>\n",
       "      <td>benzin</td>\n",
       "      <td>peugeot</td>\n",
       "      <td>ja</td>\n",
       "      <td>2016-03-22 00:00:00</td>\n",
       "      <td>15234</td>\n",
       "      <td>2016-03-22 20:54:12</td>\n",
       "    </tr>\n",
       "    <tr>\n",
       "      <th>2619</th>\n",
       "      <td>2016-03-20 00:57:37</td>\n",
       "      <td>Ford_fiesta_zum_ausschlachten_oder_herrichten</td>\n",
       "      <td>100.0</td>\n",
       "      <td>control</td>\n",
       "      <td>kleinwagen</td>\n",
       "      <td>2000</td>\n",
       "      <td>manuell</td>\n",
       "      <td>0</td>\n",
       "      <td>fiesta</td>\n",
       "      <td>150000.0</td>\n",
       "      <td>12</td>\n",
       "      <td>benzin</td>\n",
       "      <td>ford</td>\n",
       "      <td>NaN</td>\n",
       "      <td>2016-03-19 00:00:00</td>\n",
       "      <td>38114</td>\n",
       "      <td>2016-04-06 02:17:23</td>\n",
       "    </tr>\n",
       "  </tbody>\n",
       "</table>\n",
       "</div>"
      ],
      "text/plain": [
       "             date_crawled                                           name  \\\n",
       "461   2016-03-17 12:54:04                        Gut_erhaltene_Alufelgen   \n",
       "1097  2016-03-15 20:48:32                                   Ford_ka_!!!!   \n",
       "1432  2016-03-07 13:52:40                         Ford_Escort_90PS_Kombi   \n",
       "2557  2016-03-22 20:54:12                      Peugeot_106__Totalschaden   \n",
       "2619  2016-03-20 00:57:37  Ford_fiesta_zum_ausschlachten_oder_herrichten   \n",
       "\n",
       "      price   abtest vehicle_type  year_of_registration  gearbox  power_ps  \\\n",
       "461   100.0     test          NaN                  2008      NaN         0   \n",
       "1097  100.0     test          NaN                  2000  manuell        60   \n",
       "1432  100.0  control        kombi                  1995  manuell        90   \n",
       "2557  100.0  control   kleinwagen                  2000  manuell         0   \n",
       "2619  100.0  control   kleinwagen                  2000  manuell         0   \n",
       "\n",
       "        model  odometer_km  month_of_registration fuel_type           brand  \\\n",
       "461       NaN      30000.0                      0       NaN  sonstige_autos   \n",
       "1097       ka     150000.0                      0    benzin            ford   \n",
       "1432   escort     150000.0                      1    benzin            ford   \n",
       "2557  1_reihe     150000.0                      0    benzin         peugeot   \n",
       "2619   fiesta     150000.0                     12    benzin            ford   \n",
       "\n",
       "     not_repaired_damage         date_created  postal_code  \\\n",
       "461                  NaN  2016-03-17 00:00:00        66440   \n",
       "1097                 NaN  2016-03-15 00:00:00        54290   \n",
       "1432                  ja  2016-03-07 00:00:00        95497   \n",
       "2557                  ja  2016-03-22 00:00:00        15234   \n",
       "2619                 NaN  2016-03-19 00:00:00        38114   \n",
       "\n",
       "                last_seen  \n",
       "461   2016-03-27 00:16:38  \n",
       "1097  2016-04-07 03:45:23  \n",
       "1432  2016-03-17 17:15:34  \n",
       "2557  2016-03-22 20:54:12  \n",
       "2619  2016-04-06 02:17:23  "
      ]
     },
     "execution_count": 24,
     "metadata": {},
     "output_type": "execute_result"
    }
   ],
   "source": [
    "autos[autos['price'] == 100].head()"
   ]
  },
  {
   "cell_type": "code",
   "execution_count": 25,
   "metadata": {
    "collapsed": false
   },
   "outputs": [
    {
     "data": {
      "text/plain": [
       "99999999.0    1\n",
       "27322222.0    1\n",
       "12345678.0    3\n",
       "11111111.0    2\n",
       "10000000.0    1\n",
       "3890000.0     1\n",
       "1300000.0     1\n",
       "1234566.0     1\n",
       "999999.0      2\n",
       "999990.0      1\n",
       "350000.0      1\n",
       "345000.0      1\n",
       "299000.0      1\n",
       "295000.0      1\n",
       "265000.0      1\n",
       "259000.0      1\n",
       "250000.0      1\n",
       "220000.0      1\n",
       "198000.0      1\n",
       "197000.0      1\n",
       "Name: price, dtype: int64"
      ]
     },
     "execution_count": 25,
     "metadata": {},
     "output_type": "execute_result"
    }
   ],
   "source": [
    "autos['price'].value_counts().sort_index(ascending=False).head(20)"
   ]
  },
  {
   "cell_type": "code",
   "execution_count": 26,
   "metadata": {
    "collapsed": false
   },
   "outputs": [
    {
     "data": {
      "text/html": [
       "<div>\n",
       "<style scoped>\n",
       "    .dataframe tbody tr th:only-of-type {\n",
       "        vertical-align: middle;\n",
       "    }\n",
       "\n",
       "    .dataframe tbody tr th {\n",
       "        vertical-align: top;\n",
       "    }\n",
       "\n",
       "    .dataframe thead th {\n",
       "        text-align: right;\n",
       "    }\n",
       "</style>\n",
       "<table border=\"1\" class=\"dataframe\">\n",
       "  <thead>\n",
       "    <tr style=\"text-align: right;\">\n",
       "      <th></th>\n",
       "      <th>date_crawled</th>\n",
       "      <th>name</th>\n",
       "      <th>price</th>\n",
       "      <th>abtest</th>\n",
       "      <th>vehicle_type</th>\n",
       "      <th>year_of_registration</th>\n",
       "      <th>gearbox</th>\n",
       "      <th>power_ps</th>\n",
       "      <th>model</th>\n",
       "      <th>odometer_km</th>\n",
       "      <th>month_of_registration</th>\n",
       "      <th>fuel_type</th>\n",
       "      <th>brand</th>\n",
       "      <th>not_repaired_damage</th>\n",
       "      <th>date_created</th>\n",
       "      <th>postal_code</th>\n",
       "      <th>last_seen</th>\n",
       "    </tr>\n",
       "  </thead>\n",
       "  <tbody>\n",
       "    <tr>\n",
       "      <th>37585</th>\n",
       "      <td>2016-03-29 11:38:54</td>\n",
       "      <td>Volkswagen_Jetta_GT</td>\n",
       "      <td>999990.0</td>\n",
       "      <td>test</td>\n",
       "      <td>limousine</td>\n",
       "      <td>1985</td>\n",
       "      <td>manuell</td>\n",
       "      <td>111</td>\n",
       "      <td>jetta</td>\n",
       "      <td>150000.0</td>\n",
       "      <td>12</td>\n",
       "      <td>benzin</td>\n",
       "      <td>volkswagen</td>\n",
       "      <td>ja</td>\n",
       "      <td>2016-03-29 00:00:00</td>\n",
       "      <td>50997</td>\n",
       "      <td>2016-03-29 11:38:54</td>\n",
       "    </tr>\n",
       "  </tbody>\n",
       "</table>\n",
       "</div>"
      ],
      "text/plain": [
       "              date_crawled                 name     price abtest vehicle_type  \\\n",
       "37585  2016-03-29 11:38:54  Volkswagen_Jetta_GT  999990.0   test    limousine   \n",
       "\n",
       "       year_of_registration  gearbox  power_ps  model  odometer_km  \\\n",
       "37585                  1985  manuell       111  jetta     150000.0   \n",
       "\n",
       "       month_of_registration fuel_type       brand not_repaired_damage  \\\n",
       "37585                     12    benzin  volkswagen                  ja   \n",
       "\n",
       "              date_created  postal_code            last_seen  \n",
       "37585  2016-03-29 00:00:00        50997  2016-03-29 11:38:54  "
      ]
     },
     "execution_count": 26,
     "metadata": {},
     "output_type": "execute_result"
    }
   ],
   "source": [
    "autos[autos['price'] == 999990]"
   ]
  },
  {
   "cell_type": "code",
   "execution_count": 27,
   "metadata": {
    "collapsed": false
   },
   "outputs": [
    {
     "data": {
      "text/html": [
       "<div>\n",
       "<style scoped>\n",
       "    .dataframe tbody tr th:only-of-type {\n",
       "        vertical-align: middle;\n",
       "    }\n",
       "\n",
       "    .dataframe tbody tr th {\n",
       "        vertical-align: top;\n",
       "    }\n",
       "\n",
       "    .dataframe thead th {\n",
       "        text-align: right;\n",
       "    }\n",
       "</style>\n",
       "<table border=\"1\" class=\"dataframe\">\n",
       "  <thead>\n",
       "    <tr style=\"text-align: right;\">\n",
       "      <th></th>\n",
       "      <th>date_crawled</th>\n",
       "      <th>name</th>\n",
       "      <th>price</th>\n",
       "      <th>abtest</th>\n",
       "      <th>vehicle_type</th>\n",
       "      <th>year_of_registration</th>\n",
       "      <th>gearbox</th>\n",
       "      <th>power_ps</th>\n",
       "      <th>model</th>\n",
       "      <th>odometer_km</th>\n",
       "      <th>month_of_registration</th>\n",
       "      <th>fuel_type</th>\n",
       "      <th>brand</th>\n",
       "      <th>not_repaired_damage</th>\n",
       "      <th>date_created</th>\n",
       "      <th>postal_code</th>\n",
       "      <th>last_seen</th>\n",
       "    </tr>\n",
       "  </thead>\n",
       "  <tbody>\n",
       "    <tr>\n",
       "      <th>36818</th>\n",
       "      <td>2016-03-27 18:37:37</td>\n",
       "      <td>Porsche_991</td>\n",
       "      <td>350000.0</td>\n",
       "      <td>control</td>\n",
       "      <td>coupe</td>\n",
       "      <td>2016</td>\n",
       "      <td>manuell</td>\n",
       "      <td>500</td>\n",
       "      <td>911</td>\n",
       "      <td>5000.0</td>\n",
       "      <td>3</td>\n",
       "      <td>benzin</td>\n",
       "      <td>porsche</td>\n",
       "      <td>nein</td>\n",
       "      <td>2016-03-27 00:00:00</td>\n",
       "      <td>70499</td>\n",
       "      <td>2016-03-27 18:37:37</td>\n",
       "    </tr>\n",
       "  </tbody>\n",
       "</table>\n",
       "</div>"
      ],
      "text/plain": [
       "              date_crawled         name     price   abtest vehicle_type  \\\n",
       "36818  2016-03-27 18:37:37  Porsche_991  350000.0  control        coupe   \n",
       "\n",
       "       year_of_registration  gearbox  power_ps model  odometer_km  \\\n",
       "36818                  2016  manuell       500   911       5000.0   \n",
       "\n",
       "       month_of_registration fuel_type    brand not_repaired_damage  \\\n",
       "36818                      3    benzin  porsche                nein   \n",
       "\n",
       "              date_created  postal_code            last_seen  \n",
       "36818  2016-03-27 00:00:00        70499  2016-03-27 18:37:37  "
      ]
     },
     "execution_count": 27,
     "metadata": {},
     "output_type": "execute_result"
    }
   ],
   "source": [
    "autos[autos['price'] == 350000]"
   ]
  },
  {
   "cell_type": "markdown",
   "metadata": {},
   "source": [
    "### Where to Cut the Tails: `price`\n",
    "\n",
    "At the low end of the spectrum there appear to be dozen of car for sale under \\$100 which seems extremely cheap for even an old junky car. There seems to be a cluster at \\$100 so that seems like a \"reasonable\" low-end price point and examining some of those listed for \\$100, it appears a lot of those cars are rather old and have many kilometers on the engine. \n",
    "\n",
    "At the high end, there are a few cars listed for over a million dollars (and some much higher). Those prices seem unrealistic. Luckily there appears to be a nice break in the data between \\$999,990 and the next highest price at \\$350,000. Examine both of these listings individually it appears that the listing for \\$350,000 might be a steep price for a Porsche 911, it does appear to be a new-ish model with very few kilometers on the engine. On the contrast, the listing for \\$999990 for a Volkswagen Jetta from 1985 with 150,000km on the engine seems unrealistic. \n",
    "\n",
    "I conclude that I will snip the tails at:\n",
    "\\$100 <= `price` >= \\$350,000"
   ]
  },
  {
   "cell_type": "code",
   "execution_count": 28,
   "metadata": {
    "collapsed": false
   },
   "outputs": [
    {
     "name": "stdout",
     "output_type": "stream",
     "text": [
      "Lowest odometer reading listed: 5000.0 km\n",
      "Highest odometer reading listed: 150000.0 km\n"
     ]
    }
   ],
   "source": [
    "print('Lowest odometer reading listed: {} km'.format(autos['odometer_km'].min()))\n",
    "print('Highest odometer reading listed: {} km'.format(autos['odometer_km'].max()))"
   ]
  },
  {
   "cell_type": "code",
   "execution_count": 29,
   "metadata": {
    "collapsed": false
   },
   "outputs": [
    {
     "name": "stdout",
     "output_type": "stream",
     "text": [
      "Number of unique odometer readings listed: 13 \n",
      "\n",
      "count     50000.000000\n",
      "mean     125732.700000\n",
      "std       40042.211706\n",
      "min        5000.000000\n",
      "25%      125000.000000\n",
      "50%      150000.000000\n",
      "75%      150000.000000\n",
      "max      150000.000000\n",
      "Name: odometer_km, dtype: float64\n"
     ]
    }
   ],
   "source": [
    "print('Number of unique odometer readings listed:', autos['odometer_km'].unique().shape[0], '\\n')\n",
    "print(autos['odometer_km'].describe())"
   ]
  },
  {
   "cell_type": "code",
   "execution_count": 30,
   "metadata": {
    "collapsed": false
   },
   "outputs": [
    {
     "data": {
      "text/plain": [
       "5000.0        967\n",
       "10000.0       264\n",
       "20000.0       784\n",
       "30000.0       789\n",
       "40000.0       819\n",
       "50000.0      1027\n",
       "60000.0      1164\n",
       "70000.0      1230\n",
       "80000.0      1436\n",
       "90000.0      1757\n",
       "100000.0     2169\n",
       "125000.0     5170\n",
       "150000.0    32424\n",
       "Name: odometer_km, dtype: int64"
      ]
     },
     "execution_count": 30,
     "metadata": {},
     "output_type": "execute_result"
    }
   ],
   "source": [
    "autos['odometer_km'].value_counts(dropna=False).sort_index()"
   ]
  },
  {
   "cell_type": "markdown",
   "metadata": {},
   "source": [
    "### Where to Cut the Tails: `odometer_km`\n",
    "There are only 13 unique odometer readings for all of the listed cars and a vast majority of which are 150,000 km. It appears that users may have had to select an odometer reading bucket when creating a posting since all of the values fall nice round values. There may not have been an option for odometer readings above 150,000 km which is why so many users selected the highest bucket or perhaps on the website, that bucket was listed as 150,000 km or greater.\n",
    "\n",
    "Whatever the case, there doesn't appear to be any outliers (or even any missing values)."
   ]
  },
  {
   "cell_type": "code",
   "execution_count": 31,
   "metadata": {
    "collapsed": false
   },
   "outputs": [],
   "source": [
    "# keeping only rows where the price lies between $100 and $350,000 (inclusive)\n",
    "autos = autos[autos['price'].between(100, 350000)]"
   ]
  },
  {
   "cell_type": "code",
   "execution_count": 32,
   "metadata": {
    "collapsed": false
   },
   "outputs": [
    {
     "name": "stdout",
     "output_type": "stream",
     "text": [
      "<class 'pandas.core.frame.DataFrame'>\n",
      "Int64Index: 48224 entries, 0 to 49999\n",
      "Data columns (total 17 columns):\n",
      "date_crawled             48224 non-null object\n",
      "name                     48224 non-null object\n",
      "price                    48224 non-null float64\n",
      "abtest                   48224 non-null object\n",
      "vehicle_type             43801 non-null object\n",
      "year_of_registration     48224 non-null int64\n",
      "gearbox                  46019 non-null object\n",
      "power_ps                 48224 non-null int64\n",
      "model                    45829 non-null object\n",
      "odometer_km              48224 non-null float64\n",
      "month_of_registration    48224 non-null int64\n",
      "fuel_type                44345 non-null object\n",
      "brand                    48224 non-null object\n",
      "not_repaired_damage      39340 non-null object\n",
      "date_created             48224 non-null object\n",
      "postal_code              48224 non-null int64\n",
      "last_seen                48224 non-null object\n",
      "dtypes: float64(2), int64(4), object(11)\n",
      "memory usage: 6.6+ MB\n"
     ]
    }
   ],
   "source": [
    "autos.info()"
   ]
  },
  {
   "cell_type": "markdown",
   "metadata": {},
   "source": [
    "### Exploring `date_crawled`, `date_created` and `last_seen`\n",
    "These columns are encoded as strings but represent a date (and time). The first 10 characters in the string represent the date component and remaining characters represent the time component (if applicable). \n",
    "\n",
    "The date format is: YYYY-MM-DD"
   ]
  },
  {
   "cell_type": "code",
   "execution_count": 33,
   "metadata": {
    "collapsed": false
   },
   "outputs": [
    {
     "data": {
      "text/plain": [
       "34"
      ]
     },
     "execution_count": 33,
     "metadata": {},
     "output_type": "execute_result"
    }
   ],
   "source": [
    "autos['date_crawled'].str[0:10].unique().shape[0]"
   ]
  },
  {
   "cell_type": "code",
   "execution_count": 34,
   "metadata": {
    "collapsed": false
   },
   "outputs": [
    {
     "data": {
      "text/plain": [
       "2016-03-05    1223\n",
       "2016-03-06     677\n",
       "2016-03-07    1739\n",
       "2016-03-08    1600\n",
       "2016-03-09    1592\n",
       "2016-03-10    1557\n",
       "2016-03-11    1572\n",
       "2016-03-12    1780\n",
       "2016-03-13     756\n",
       "2016-03-14    1768\n",
       "2016-03-15    1655\n",
       "2016-03-16    1421\n",
       "2016-03-17    1519\n",
       "2016-03-18     622\n",
       "2016-03-19    1675\n",
       "2016-03-20    1823\n",
       "2016-03-21    1794\n",
       "2016-03-22    1586\n",
       "2016-03-23    1557\n",
       "2016-03-24    1420\n",
       "2016-03-25    1519\n",
       "2016-03-26    1558\n",
       "2016-03-27    1501\n",
       "2016-03-28    1686\n",
       "2016-03-29    1645\n",
       "2016-03-30    1627\n",
       "2016-03-31    1536\n",
       "2016-04-01    1625\n",
       "2016-04-02    1717\n",
       "2016-04-03    1862\n",
       "2016-04-04    1762\n",
       "2016-04-05     630\n",
       "2016-04-06     153\n",
       "2016-04-07      67\n",
       "Name: date_crawled, dtype: int64"
      ]
     },
     "execution_count": 34,
     "metadata": {},
     "output_type": "execute_result"
    }
   ],
   "source": [
    "autos['date_crawled'].str[0:10].value_counts(dropna=False).sort_index()"
   ]
  },
  {
   "cell_type": "markdown",
   "metadata": {},
   "source": [
    "### Distribution of `date_crawled`\n",
    "The dataset was crawled from the eBay website all in the span of about a month, from the first week of March 2016 until the first week of April 2016, a range of 34 days. Except for a few dates, the distribution appears fairly uniform which means that each date, there were about the same number of results add to the dataset per day (around ~1600/day)."
   ]
  },
  {
   "cell_type": "code",
   "execution_count": 35,
   "metadata": {
    "collapsed": false
   },
   "outputs": [
    {
     "data": {
      "text/plain": [
       "76"
      ]
     },
     "execution_count": 35,
     "metadata": {},
     "output_type": "execute_result"
    }
   ],
   "source": [
    "autos['date_created'].str[0:10].unique().shape[0]"
   ]
  },
  {
   "cell_type": "code",
   "execution_count": 36,
   "metadata": {
    "collapsed": false
   },
   "outputs": [
    {
     "data": {
      "text/plain": [
       "count          48224\n",
       "unique            76\n",
       "top       2016-04-03\n",
       "freq            1874\n",
       "Name: date_created, dtype: object"
      ]
     },
     "execution_count": 36,
     "metadata": {},
     "output_type": "execute_result"
    }
   ],
   "source": [
    "autos['date_created'].str[0:10].describe()"
   ]
  },
  {
   "cell_type": "code",
   "execution_count": 37,
   "metadata": {
    "collapsed": false
   },
   "outputs": [
    {
     "name": "stdout",
     "output_type": "stream",
     "text": [
      "Earliest date post was created: 2015-06-11\n",
      "Latest date post was created: 2016-04-07\n"
     ]
    }
   ],
   "source": [
    "print('Earliest date post was created:', autos['date_created'].str[0:10].min())\n",
    "print('Latest date post was created:', autos['date_created'].str[0:10].max())"
   ]
  },
  {
   "cell_type": "code",
   "execution_count": 38,
   "metadata": {
    "collapsed": false
   },
   "outputs": [
    {
     "name": "stdout",
     "output_type": "stream",
     "text": [
      "<class 'pandas.core.frame.DataFrame'>\n",
      "Int64Index: 60 entries, 361 to 49569\n",
      "Data columns (total 17 columns):\n",
      "date_crawled             60 non-null object\n",
      "name                     60 non-null object\n",
      "price                    60 non-null float64\n",
      "abtest                   60 non-null object\n",
      "vehicle_type             55 non-null object\n",
      "year_of_registration     60 non-null int64\n",
      "gearbox                  55 non-null object\n",
      "power_ps                 60 non-null int64\n",
      "model                    57 non-null object\n",
      "odometer_km              60 non-null float64\n",
      "month_of_registration    60 non-null int64\n",
      "fuel_type                53 non-null object\n",
      "brand                    60 non-null object\n",
      "not_repaired_damage      47 non-null object\n",
      "date_created             60 non-null object\n",
      "postal_code              60 non-null int64\n",
      "last_seen                60 non-null object\n",
      "dtypes: float64(2), int64(4), object(11)\n",
      "memory usage: 8.4+ KB\n"
     ]
    }
   ],
   "source": [
    "autos[autos['date_created'].str[0:10] == '2016-04-07'].info()"
   ]
  },
  {
   "cell_type": "markdown",
   "metadata": {},
   "source": [
    "### What About `date_created`?\n",
    "Date created refers to the date that the post was made on the eBay website. The earliest post was created on May 11th, 2015 and the last post was created on April 7th, 2016 which also happens to be the last date the data was crawled. This makes sense. The data crawled appears to be collected from post made about 11 months prior the last day the data crawled extracted posts. "
   ]
  },
  {
   "cell_type": "code",
   "execution_count": 39,
   "metadata": {
    "collapsed": false
   },
   "outputs": [
    {
     "data": {
      "text/plain": [
       "34"
      ]
     },
     "execution_count": 39,
     "metadata": {},
     "output_type": "execute_result"
    }
   ],
   "source": [
    "autos['last_seen'].str[0:10].unique().shape[0]"
   ]
  },
  {
   "cell_type": "code",
   "execution_count": 40,
   "metadata": {
    "collapsed": false
   },
   "outputs": [
    {
     "data": {
      "text/plain": [
       "2016-03-05       52\n",
       "2016-03-06      208\n",
       "2016-03-07      262\n",
       "2016-03-08      353\n",
       "2016-03-09      462\n",
       "2016-03-10      513\n",
       "2016-03-11      598\n",
       "2016-03-12     1147\n",
       "2016-03-13      428\n",
       "2016-03-14      609\n",
       "2016-03-15      765\n",
       "2016-03-16      793\n",
       "2016-03-17     1355\n",
       "2016-03-18      353\n",
       "2016-03-19      760\n",
       "2016-03-20      996\n",
       "2016-03-21      991\n",
       "2016-03-22     1030\n",
       "2016-03-23      896\n",
       "2016-03-24      953\n",
       "2016-03-25      921\n",
       "2016-03-26      804\n",
       "2016-03-27      750\n",
       "2016-03-28     1005\n",
       "2016-03-29     1075\n",
       "2016-03-30     1191\n",
       "2016-03-31     1149\n",
       "2016-04-01     1102\n",
       "2016-04-02     1200\n",
       "2016-04-03     1212\n",
       "2016-04-04     1183\n",
       "2016-04-05     6031\n",
       "2016-04-06    10704\n",
       "2016-04-07     6373\n",
       "Name: last_seen, dtype: int64"
      ]
     },
     "execution_count": 40,
     "metadata": {},
     "output_type": "execute_result"
    }
   ],
   "source": [
    "autos['last_seen'].str[0:10].value_counts(dropna=False).sort_index()"
   ]
  },
  {
   "cell_type": "markdown",
   "metadata": {},
   "source": [
    "### And What About `last_seen`?\n",
    "\n",
    "The `last_seen` feature refers to the last time the data crawler saw a specific post and it make sense that the date range would align with the date range from `date_crawled`. Now to ask, is this information important? \n",
    "\n",
    "### Now on to `year_of_registration`...\n",
    "\n",
    "The `year_of_registration` feature captures when the car was first registered which means the year should take on values no later than 2016, when this dataset was first compiled.  Cars with years of registration earlier than the 1920s (or 1900 at the very earliest) should also be a viewed as possible anomalies. "
   ]
  },
  {
   "cell_type": "code",
   "execution_count": 41,
   "metadata": {
    "collapsed": false
   },
   "outputs": [
    {
     "data": {
      "text/plain": [
       "count    48224.000000\n",
       "mean      2004.730964\n",
       "std         87.897388\n",
       "min       1000.000000\n",
       "25%       1999.000000\n",
       "50%       2004.000000\n",
       "75%       2008.000000\n",
       "max       9999.000000\n",
       "Name: year_of_registration, dtype: float64"
      ]
     },
     "execution_count": 41,
     "metadata": {},
     "output_type": "execute_result"
    }
   ],
   "source": [
    "autos['year_of_registration'].describe()"
   ]
  },
  {
   "cell_type": "code",
   "execution_count": 42,
   "metadata": {
    "collapsed": false
   },
   "outputs": [
    {
     "data": {
      "text/plain": [
       "count    1867.00000\n",
       "mean     2050.97429\n",
       "std       441.16511\n",
       "min      2017.00000\n",
       "25%      2017.00000\n",
       "50%      2017.00000\n",
       "75%      2018.00000\n",
       "max      9999.00000\n",
       "Name: year_of_registration, dtype: float64"
      ]
     },
     "execution_count": 42,
     "metadata": {},
     "output_type": "execute_result"
    }
   ],
   "source": [
    "autos[autos['year_of_registration'] >= 2017]['year_of_registration'].describe()"
   ]
  },
  {
   "cell_type": "code",
   "execution_count": 43,
   "metadata": {
    "collapsed": false
   },
   "outputs": [
    {
     "data": {
      "text/plain": [
       "count       7.000000\n",
       "mean     1504.571429\n",
       "std       440.903564\n",
       "min      1000.000000\n",
       "25%      1056.000000\n",
       "50%      1800.000000\n",
       "75%      1855.000000\n",
       "max      1910.000000\n",
       "Name: year_of_registration, dtype: float64"
      ]
     },
     "execution_count": 43,
     "metadata": {},
     "output_type": "execute_result"
    }
   ],
   "source": [
    "autos[autos['year_of_registration'] <= 1920]['year_of_registration'].describe()"
   ]
  },
  {
   "cell_type": "code",
   "execution_count": 44,
   "metadata": {
    "collapsed": false
   },
   "outputs": [
    {
     "data": {
      "text/html": [
       "<div>\n",
       "<style scoped>\n",
       "    .dataframe tbody tr th:only-of-type {\n",
       "        vertical-align: middle;\n",
       "    }\n",
       "\n",
       "    .dataframe tbody tr th {\n",
       "        vertical-align: top;\n",
       "    }\n",
       "\n",
       "    .dataframe thead th {\n",
       "        text-align: right;\n",
       "    }\n",
       "</style>\n",
       "<table border=\"1\" class=\"dataframe\">\n",
       "  <thead>\n",
       "    <tr style=\"text-align: right;\">\n",
       "      <th></th>\n",
       "      <th>date_crawled</th>\n",
       "      <th>name</th>\n",
       "      <th>price</th>\n",
       "      <th>abtest</th>\n",
       "      <th>vehicle_type</th>\n",
       "      <th>year_of_registration</th>\n",
       "      <th>gearbox</th>\n",
       "      <th>power_ps</th>\n",
       "      <th>model</th>\n",
       "      <th>odometer_km</th>\n",
       "      <th>month_of_registration</th>\n",
       "      <th>fuel_type</th>\n",
       "      <th>brand</th>\n",
       "      <th>not_repaired_damage</th>\n",
       "      <th>date_created</th>\n",
       "      <th>postal_code</th>\n",
       "      <th>last_seen</th>\n",
       "    </tr>\n",
       "  </thead>\n",
       "  <tbody>\n",
       "    <tr>\n",
       "      <th>10556</th>\n",
       "      <td>2016-04-01 06:02:10</td>\n",
       "      <td>UNFAL_Auto</td>\n",
       "      <td>450.0</td>\n",
       "      <td>control</td>\n",
       "      <td>NaN</td>\n",
       "      <td>1800</td>\n",
       "      <td>NaN</td>\n",
       "      <td>1800</td>\n",
       "      <td>NaN</td>\n",
       "      <td>5000.0</td>\n",
       "      <td>2</td>\n",
       "      <td>NaN</td>\n",
       "      <td>mitsubishi</td>\n",
       "      <td>nein</td>\n",
       "      <td>2016-04-01 00:00:00</td>\n",
       "      <td>63322</td>\n",
       "      <td>2016-04-01 09:42:30</td>\n",
       "    </tr>\n",
       "    <tr>\n",
       "      <th>22316</th>\n",
       "      <td>2016-03-29 16:56:41</td>\n",
       "      <td>VW_Kaefer.__Zwei_zum_Preis_von_einem.</td>\n",
       "      <td>1500.0</td>\n",
       "      <td>control</td>\n",
       "      <td>NaN</td>\n",
       "      <td>1000</td>\n",
       "      <td>manuell</td>\n",
       "      <td>0</td>\n",
       "      <td>kaefer</td>\n",
       "      <td>5000.0</td>\n",
       "      <td>0</td>\n",
       "      <td>benzin</td>\n",
       "      <td>volkswagen</td>\n",
       "      <td>NaN</td>\n",
       "      <td>2016-03-29 00:00:00</td>\n",
       "      <td>48324</td>\n",
       "      <td>2016-03-31 10:15:28</td>\n",
       "    </tr>\n",
       "    <tr>\n",
       "      <th>22659</th>\n",
       "      <td>2016-03-14 08:51:18</td>\n",
       "      <td>Opel_Corsa_B</td>\n",
       "      <td>500.0</td>\n",
       "      <td>test</td>\n",
       "      <td>NaN</td>\n",
       "      <td>1910</td>\n",
       "      <td>NaN</td>\n",
       "      <td>0</td>\n",
       "      <td>corsa</td>\n",
       "      <td>150000.0</td>\n",
       "      <td>0</td>\n",
       "      <td>NaN</td>\n",
       "      <td>opel</td>\n",
       "      <td>NaN</td>\n",
       "      <td>2016-03-14 00:00:00</td>\n",
       "      <td>52393</td>\n",
       "      <td>2016-04-03 07:53:55</td>\n",
       "    </tr>\n",
       "    <tr>\n",
       "      <th>24511</th>\n",
       "      <td>2016-03-17 19:45:11</td>\n",
       "      <td>Trabant__wartburg__Ostalgie</td>\n",
       "      <td>490.0</td>\n",
       "      <td>control</td>\n",
       "      <td>NaN</td>\n",
       "      <td>1111</td>\n",
       "      <td>NaN</td>\n",
       "      <td>0</td>\n",
       "      <td>NaN</td>\n",
       "      <td>5000.0</td>\n",
       "      <td>0</td>\n",
       "      <td>NaN</td>\n",
       "      <td>trabant</td>\n",
       "      <td>NaN</td>\n",
       "      <td>2016-03-17 00:00:00</td>\n",
       "      <td>16818</td>\n",
       "      <td>2016-04-07 07:17:29</td>\n",
       "    </tr>\n",
       "    <tr>\n",
       "      <th>28693</th>\n",
       "      <td>2016-03-22 17:48:41</td>\n",
       "      <td>Renault_Twingo</td>\n",
       "      <td>599.0</td>\n",
       "      <td>control</td>\n",
       "      <td>kleinwagen</td>\n",
       "      <td>1910</td>\n",
       "      <td>manuell</td>\n",
       "      <td>0</td>\n",
       "      <td>NaN</td>\n",
       "      <td>5000.0</td>\n",
       "      <td>0</td>\n",
       "      <td>benzin</td>\n",
       "      <td>renault</td>\n",
       "      <td>NaN</td>\n",
       "      <td>2016-03-22 00:00:00</td>\n",
       "      <td>70376</td>\n",
       "      <td>2016-04-06 09:16:59</td>\n",
       "    </tr>\n",
       "    <tr>\n",
       "      <th>32585</th>\n",
       "      <td>2016-04-02 16:56:39</td>\n",
       "      <td>UNFAL_Auto</td>\n",
       "      <td>450.0</td>\n",
       "      <td>control</td>\n",
       "      <td>NaN</td>\n",
       "      <td>1800</td>\n",
       "      <td>NaN</td>\n",
       "      <td>1800</td>\n",
       "      <td>NaN</td>\n",
       "      <td>5000.0</td>\n",
       "      <td>2</td>\n",
       "      <td>NaN</td>\n",
       "      <td>mitsubishi</td>\n",
       "      <td>nein</td>\n",
       "      <td>2016-04-02 00:00:00</td>\n",
       "      <td>63322</td>\n",
       "      <td>2016-04-04 14:46:21</td>\n",
       "    </tr>\n",
       "    <tr>\n",
       "      <th>49283</th>\n",
       "      <td>2016-03-15 18:38:53</td>\n",
       "      <td>Citroen_HY</td>\n",
       "      <td>7750.0</td>\n",
       "      <td>control</td>\n",
       "      <td>NaN</td>\n",
       "      <td>1001</td>\n",
       "      <td>NaN</td>\n",
       "      <td>0</td>\n",
       "      <td>andere</td>\n",
       "      <td>5000.0</td>\n",
       "      <td>0</td>\n",
       "      <td>NaN</td>\n",
       "      <td>citroen</td>\n",
       "      <td>NaN</td>\n",
       "      <td>2016-03-15 00:00:00</td>\n",
       "      <td>66706</td>\n",
       "      <td>2016-04-06 18:47:20</td>\n",
       "    </tr>\n",
       "  </tbody>\n",
       "</table>\n",
       "</div>"
      ],
      "text/plain": [
       "              date_crawled                                   name   price  \\\n",
       "10556  2016-04-01 06:02:10                             UNFAL_Auto   450.0   \n",
       "22316  2016-03-29 16:56:41  VW_Kaefer.__Zwei_zum_Preis_von_einem.  1500.0   \n",
       "22659  2016-03-14 08:51:18                           Opel_Corsa_B   500.0   \n",
       "24511  2016-03-17 19:45:11            Trabant__wartburg__Ostalgie   490.0   \n",
       "28693  2016-03-22 17:48:41                         Renault_Twingo   599.0   \n",
       "32585  2016-04-02 16:56:39                             UNFAL_Auto   450.0   \n",
       "49283  2016-03-15 18:38:53                             Citroen_HY  7750.0   \n",
       "\n",
       "        abtest vehicle_type  year_of_registration  gearbox  power_ps   model  \\\n",
       "10556  control          NaN                  1800      NaN      1800     NaN   \n",
       "22316  control          NaN                  1000  manuell         0  kaefer   \n",
       "22659     test          NaN                  1910      NaN         0   corsa   \n",
       "24511  control          NaN                  1111      NaN         0     NaN   \n",
       "28693  control   kleinwagen                  1910  manuell         0     NaN   \n",
       "32585  control          NaN                  1800      NaN      1800     NaN   \n",
       "49283  control          NaN                  1001      NaN         0  andere   \n",
       "\n",
       "       odometer_km  month_of_registration fuel_type       brand  \\\n",
       "10556       5000.0                      2       NaN  mitsubishi   \n",
       "22316       5000.0                      0    benzin  volkswagen   \n",
       "22659     150000.0                      0       NaN        opel   \n",
       "24511       5000.0                      0       NaN     trabant   \n",
       "28693       5000.0                      0    benzin     renault   \n",
       "32585       5000.0                      2       NaN  mitsubishi   \n",
       "49283       5000.0                      0       NaN     citroen   \n",
       "\n",
       "      not_repaired_damage         date_created  postal_code  \\\n",
       "10556                nein  2016-04-01 00:00:00        63322   \n",
       "22316                 NaN  2016-03-29 00:00:00        48324   \n",
       "22659                 NaN  2016-03-14 00:00:00        52393   \n",
       "24511                 NaN  2016-03-17 00:00:00        16818   \n",
       "28693                 NaN  2016-03-22 00:00:00        70376   \n",
       "32585                nein  2016-04-02 00:00:00        63322   \n",
       "49283                 NaN  2016-03-15 00:00:00        66706   \n",
       "\n",
       "                 last_seen  \n",
       "10556  2016-04-01 09:42:30  \n",
       "22316  2016-03-31 10:15:28  \n",
       "22659  2016-04-03 07:53:55  \n",
       "24511  2016-04-07 07:17:29  \n",
       "28693  2016-04-06 09:16:59  \n",
       "32585  2016-04-04 14:46:21  \n",
       "49283  2016-04-06 18:47:20  "
      ]
     },
     "execution_count": 44,
     "metadata": {},
     "output_type": "execute_result"
    }
   ],
   "source": [
    "autos[autos['year_of_registration'].between(1000,1920)]"
   ]
  },
  {
   "cell_type": "markdown",
   "metadata": {},
   "source": [
    "### Cleaning Up `year_of_registration`\n",
    "\n",
    "From the analysis above, there are a handful of cars whose year of registration fall are after the car was posted, 2016. Any car whose registration year is 2017 or later will be removed.\n",
    "\n",
    "As for cars whose year of registration is before 1920, of which there are only 7, also appear save to remove. These 4 cars listed with a year of registration in 1910 are for cars which did yet exist (Opel and Renault). The remaining 5 cars from this list have registration years far before cars were even invented an can also be safely removed from the dataset."
   ]
  },
  {
   "cell_type": "code",
   "execution_count": 45,
   "metadata": {
    "collapsed": true
   },
   "outputs": [],
   "source": [
    "# keeping only rows where the year_of_registration lies \n",
    "# between 1920 and 2016 (inclusive)\n",
    "autos = autos[autos['year_of_registration'].between(1920, 2016)]"
   ]
  },
  {
   "cell_type": "code",
   "execution_count": 46,
   "metadata": {
    "collapsed": false
   },
   "outputs": [
    {
     "name": "stdout",
     "output_type": "stream",
     "text": [
      "<class 'pandas.core.frame.DataFrame'>\n",
      "Int64Index: 46350 entries, 0 to 49999\n",
      "Data columns (total 17 columns):\n",
      "date_crawled             46350 non-null object\n",
      "name                     46350 non-null object\n",
      "price                    46350 non-null float64\n",
      "abtest                   46350 non-null object\n",
      "vehicle_type             43798 non-null object\n",
      "year_of_registration     46350 non-null int64\n",
      "gearbox                  44377 non-null object\n",
      "power_ps                 46350 non-null int64\n",
      "model                    44220 non-null object\n",
      "odometer_km              46350 non-null float64\n",
      "month_of_registration    46350 non-null int64\n",
      "fuel_type                43180 non-null object\n",
      "brand                    46350 non-null object\n",
      "not_repaired_damage      38254 non-null object\n",
      "date_created             46350 non-null object\n",
      "postal_code              46350 non-null int64\n",
      "last_seen                46350 non-null object\n",
      "dtypes: float64(2), int64(4), object(11)\n",
      "memory usage: 6.4+ MB\n"
     ]
    }
   ],
   "source": [
    "autos.info()"
   ]
  },
  {
   "cell_type": "code",
   "execution_count": 55,
   "metadata": {
    "collapsed": false
   },
   "outputs": [
    {
     "data": {
      "text/plain": [
       "volkswagen        9799\n",
       "bmw               5107\n",
       "opel              4970\n",
       "mercedes_benz     4480\n",
       "audi              4022\n",
       "ford              3237\n",
       "renault           2181\n",
       "peugeot           1384\n",
       "fiat              1187\n",
       "seat               846\n",
       "skoda              761\n",
       "nissan             711\n",
       "mazda              706\n",
       "smart              658\n",
       "citroen            651\n",
       "toyota             593\n",
       "hyundai            464\n",
       "sonstige_autos     442\n",
       "volvo              423\n",
       "mini               408\n",
       "mitsubishi         379\n",
       "honda              365\n",
       "kia                328\n",
       "alfa_romeo         309\n",
       "porsche            279\n",
       "suzuki             275\n",
       "chevrolet          263\n",
       "chrysler           163\n",
       "dacia              123\n",
       "daihatsu           116\n",
       "jeep               106\n",
       "land_rover          98\n",
       "subaru              98\n",
       "saab                77\n",
       "jaguar              71\n",
       "daewoo              69\n",
       "trabant             63\n",
       "rover               62\n",
       "lancia              49\n",
       "lada                27\n",
       "Name: brand, dtype: int64"
      ]
     },
     "execution_count": 55,
     "metadata": {},
     "output_type": "execute_result"
    }
   ],
   "source": [
    "autos['brand'].value_counts()"
   ]
  },
  {
   "cell_type": "markdown",
   "metadata": {},
   "source": [
    "## Top Posted Car Brands\n",
    "\n",
    "I would like to explore the top 25% of car brands posted. These top brands seem to account for a vast majority of the cars posted on the website. "
   ]
  },
  {
   "cell_type": "code",
   "execution_count": 127,
   "metadata": {
    "collapsed": false
   },
   "outputs": [],
   "source": [
    "# number of unique brands in the dataset\n",
    "nbrands = autos['brand'].nunique()\n",
    "# calculate what number corresponds to 25% of the number of car brands\n",
    "top_brands = int(nbrands/4)\n",
    "# extract the  top 25% of the brands by name into a list\n",
    "brands = autos['brand'].value_counts().head(top_brands).index\n",
    "\n",
    "# calculate the average price for the top brands and store them in a dict \n",
    "# where the key is the brand, and the value is the average price across that brand\n",
    "top_brands_prices = {}\n",
    "for b in brands:\n",
    "    mean_price_brand = autos[autos['brand'] == b]['price'].mean()\n",
    "    if b not in top_brands_prices:\n",
    "        top_brands_prices[b] = round(mean_price_brand,2)"
   ]
  },
  {
   "cell_type": "code",
   "execution_count": 128,
   "metadata": {
    "collapsed": false
   },
   "outputs": [
    {
     "data": {
      "text/plain": [
       "{'audi': 9380.72,\n",
       " 'bmw': 8381.68,\n",
       " 'fiat': 2836.87,\n",
       " 'ford': 3779.27,\n",
       " 'mercedes_benz': 8672.65,\n",
       " 'opel': 3006.0,\n",
       " 'peugeot': 3113.86,\n",
       " 'renault': 2496.94,\n",
       " 'seat': 4433.42,\n",
       " 'volkswagen': 5436.95}"
      ]
     },
     "execution_count": 128,
     "metadata": {},
     "output_type": "execute_result"
    }
   ],
   "source": [
    "top_brands_prices"
   ]
  },
  {
   "cell_type": "markdown",
   "metadata": {},
   "source": [
    "### Average Price: Top Posted Car Brands\n",
    "\n",
    "There appears to be some segregation amoung the top posted car brands. At the high end, car brands such as Audi, BMW, and Mercedes-Benz seem to be listed at prices above \\$8300. On the low end, car brands such as Fiat, Ford, Opel, Peugeot and Renault seem to be listed at around \\$3800 and below. And lastly, car brands Seat and Volkswagen seem to hover somewhere in the middle price range."
   ]
  },
  {
   "cell_type": "code",
   "execution_count": 131,
   "metadata": {
    "collapsed": false
   },
   "outputs": [],
   "source": [
    "top_brands_mileage = {}\n",
    "for b in brands:\n",
    "    mean_mileage_brand = autos[autos['brand'] == b]['odometer_km'].mean()\n",
    "    if b not in top_brands_mileage:\n",
    "        top_brands_mileage[b] = round(mean_mileage_brand)"
   ]
  },
  {
   "cell_type": "code",
   "execution_count": 132,
   "metadata": {
    "collapsed": false
   },
   "outputs": [
    {
     "data": {
      "text/plain": [
       "{'audi': 129245.0,\n",
       " 'bmw': 132695.0,\n",
       " 'fiat': 116950.0,\n",
       " 'ford': 124277.0,\n",
       " 'mercedes_benz': 131026.0,\n",
       " 'opel': 129380.0,\n",
       " 'peugeot': 127128.0,\n",
       " 'renault': 128338.0,\n",
       " 'seat': 121537.0,\n",
       " 'volkswagen': 128800.0}"
      ]
     },
     "execution_count": 132,
     "metadata": {},
     "output_type": "execute_result"
    }
   ],
   "source": [
    "top_brands_mileage"
   ]
  },
  {
   "cell_type": "code",
   "execution_count": 133,
   "metadata": {
    "collapsed": false
   },
   "outputs": [],
   "source": [
    "brands_prices = pd.Series(top_brands_prices)\n",
    "brands_mileage = pd.Series(top_brands_mileage)\n",
    "\n",
    "brands = pd.DataFrame(brands_prices, columns=['mean_price'])\n",
    "brands['mean_mileage'] = brands_mileage"
   ]
  },
  {
   "cell_type": "code",
   "execution_count": 134,
   "metadata": {
    "collapsed": false
   },
   "outputs": [
    {
     "data": {
      "text/html": [
       "<div>\n",
       "<style scoped>\n",
       "    .dataframe tbody tr th:only-of-type {\n",
       "        vertical-align: middle;\n",
       "    }\n",
       "\n",
       "    .dataframe tbody tr th {\n",
       "        vertical-align: top;\n",
       "    }\n",
       "\n",
       "    .dataframe thead th {\n",
       "        text-align: right;\n",
       "    }\n",
       "</style>\n",
       "<table border=\"1\" class=\"dataframe\">\n",
       "  <thead>\n",
       "    <tr style=\"text-align: right;\">\n",
       "      <th></th>\n",
       "      <th>mean_price</th>\n",
       "      <th>mean_mileage</th>\n",
       "    </tr>\n",
       "  </thead>\n",
       "  <tbody>\n",
       "    <tr>\n",
       "      <th>audi</th>\n",
       "      <td>9380.72</td>\n",
       "      <td>129245.0</td>\n",
       "    </tr>\n",
       "    <tr>\n",
       "      <th>bmw</th>\n",
       "      <td>8381.68</td>\n",
       "      <td>132695.0</td>\n",
       "    </tr>\n",
       "    <tr>\n",
       "      <th>fiat</th>\n",
       "      <td>2836.87</td>\n",
       "      <td>116950.0</td>\n",
       "    </tr>\n",
       "    <tr>\n",
       "      <th>ford</th>\n",
       "      <td>3779.27</td>\n",
       "      <td>124277.0</td>\n",
       "    </tr>\n",
       "    <tr>\n",
       "      <th>mercedes_benz</th>\n",
       "      <td>8672.65</td>\n",
       "      <td>131026.0</td>\n",
       "    </tr>\n",
       "    <tr>\n",
       "      <th>opel</th>\n",
       "      <td>3006.00</td>\n",
       "      <td>129380.0</td>\n",
       "    </tr>\n",
       "    <tr>\n",
       "      <th>peugeot</th>\n",
       "      <td>3113.86</td>\n",
       "      <td>127128.0</td>\n",
       "    </tr>\n",
       "    <tr>\n",
       "      <th>renault</th>\n",
       "      <td>2496.94</td>\n",
       "      <td>128338.0</td>\n",
       "    </tr>\n",
       "    <tr>\n",
       "      <th>seat</th>\n",
       "      <td>4433.42</td>\n",
       "      <td>121537.0</td>\n",
       "    </tr>\n",
       "    <tr>\n",
       "      <th>volkswagen</th>\n",
       "      <td>5436.95</td>\n",
       "      <td>128800.0</td>\n",
       "    </tr>\n",
       "  </tbody>\n",
       "</table>\n",
       "</div>"
      ],
      "text/plain": [
       "               mean_price  mean_mileage\n",
       "audi              9380.72      129245.0\n",
       "bmw               8381.68      132695.0\n",
       "fiat              2836.87      116950.0\n",
       "ford              3779.27      124277.0\n",
       "mercedes_benz     8672.65      131026.0\n",
       "opel              3006.00      129380.0\n",
       "peugeot           3113.86      127128.0\n",
       "renault           2496.94      128338.0\n",
       "seat              4433.42      121537.0\n",
       "volkswagen        5436.95      128800.0"
      ]
     },
     "execution_count": 134,
     "metadata": {},
     "output_type": "execute_result"
    }
   ],
   "source": [
    "brands"
   ]
  },
  {
   "cell_type": "markdown",
   "metadata": {},
   "source": [
    "### Average Mileage: Top Posted Car Brands\n",
    "\n",
    "It appears that all of the top 10 car brands have roughly the same average mileage, all well over 110,000km. Fiat has the lowest average with roughly 117,000km whereas BMW has the highest average with roughly 133,000km.\n",
    "\n"
   ]
  },
  {
   "cell_type": "code",
   "execution_count": null,
   "metadata": {
    "collapsed": true
   },
   "outputs": [],
   "source": []
  }
 ],
 "metadata": {
  "kernelspec": {
   "display_name": "Python 3",
   "language": "python",
   "name": "python3"
  },
  "language_info": {
   "codemirror_mode": {
    "name": "ipython",
    "version": 3
   },
   "file_extension": ".py",
   "mimetype": "text/x-python",
   "name": "python",
   "nbconvert_exporter": "python",
   "pygments_lexer": "ipython3",
   "version": "3.4.3"
  }
 },
 "nbformat": 4,
 "nbformat_minor": 2
}
